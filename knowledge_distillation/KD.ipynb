{
  "nbformat": 4,
  "nbformat_minor": 0,
  "metadata": {
    "colab": {
      "name": "KD.ipynb",
      "version": "0.3.2",
      "provenance": []
    },
    "kernelspec": {
      "name": "python3",
      "display_name": "Python 3"
    },
    "accelerator": "GPU"
  },
  "cells": [
    {
      "cell_type": "code",
      "metadata": {
        "id": "sgjgnBUWntar",
        "colab_type": "code",
        "colab": {}
      },
      "source": [
        "##### import tensorflow as tf\n",
        "import numpy as np\n",
        "\n",
        "from tensorflow.keras.datasets import mnist\n",
        "from tensorflow.keras import layers, models\n",
        "from tensorflow.keras.utils import to_categorical\n",
        "from tensorflow.keras.constraints import max_norm\n",
        "from tensorflow.keras.models import Model\n",
        "from tensorflow.keras.losses import categorical_crossentropy\n",
        "from tensorflow.keras.optimizers import RMSprop,Adam\n",
        "\n",
        "import matplotlib.pyplot as plt\n",
        "%matplotlib inline"
      ],
      "execution_count": 0,
      "outputs": []
    },
    {
      "cell_type": "code",
      "metadata": {
        "id": "4d8YG3t2n0wy",
        "colab_type": "code",
        "colab": {}
      },
      "source": [
        "\"\"\"\n",
        "Loading MNIST Dataset\n",
        "\"\"\"\n",
        "\n",
        "def load_mnist():\n",
        "    (x_train,y_train), (x_test,y_test) = mnist.load_data()\n",
        "    \n",
        "    x_train = x_train.reshape(-1, 28, 28, 1).astype('float32') / 255.\n",
        "    x_test = x_test.reshape(-1, 28, 28, 1).astype('float32') / 255.\n",
        "\n",
        "    y_train = to_categorical(y_train.astype('float32'))\n",
        "    y_test = to_categorical(y_test.astype('float32'))\n",
        "\n",
        "    return (x_train, y_train), (x_test, y_test)"
      ],
      "execution_count": 0,
      "outputs": []
    },
    {
      "cell_type": "code",
      "metadata": {
        "id": "ubTTX5e5n0vE",
        "colab_type": "code",
        "colab": {}
      },
      "source": [
        "\"\"\"\n",
        "Initial CNN Model\n",
        "\"\"\"\n",
        "def build_simple_model():\n",
        "    inputs = layers.Input(shape=(28,28,1))\n",
        "    x = layers.Conv2D(32, kernel_size=(3,3), activation='relu', name=\"Conv1\")(inputs)\n",
        "    x = layers.Conv2D(64, kernel_size=(3,3), activation='relu', name=\"Conv2\")(x)\n",
        "    \n",
        "    x = layers.MaxPooling2D(pool_size=(2,2), name='MaxPool')(x)\n",
        "    x = layers.Dropout(rate=0.25, name='Dropout1')(x)\n",
        "    \n",
        "    x = layers.Flatten(name='Flat')(x)\n",
        "    x = layers.Dense(128, activation='relu', name='FC1')(x)\n",
        "    x = layers.Dropout(rate=0.5, name='Dropout2')(x)\n",
        "\n",
        "    \n",
        "    x = layers.Dense(10, name='logits')(x)\n",
        "    preds = layers.Activation('softmax', name='Softmax')(x)\n",
        "\n",
        "    model = Model(inputs=inputs, outputs=preds)\n",
        "    model.summary()\n",
        "    return model"
      ],
      "execution_count": 0,
      "outputs": []
    },
    {
      "cell_type": "code",
      "metadata": {
        "id": "lUBlDhO6n0sx",
        "colab_type": "code",
        "outputId": "67a89e8c-fcb4-4ab7-fd74-20e7f34a1183",
        "colab": {
          "base_uri": "https://localhost:8080/",
          "height": 526
        }
      },
      "source": [
        "model = build_simple_model()"
      ],
      "execution_count": 0,
      "outputs": [
        {
          "output_type": "stream",
          "text": [
            "Model: \"model_2\"\n",
            "_________________________________________________________________\n",
            "Layer (type)                 Output Shape              Param #   \n",
            "=================================================================\n",
            "input_2 (InputLayer)         [(None, 28, 28, 1)]       0         \n",
            "_________________________________________________________________\n",
            "Conv1 (Conv2D)               (None, 26, 26, 32)        320       \n",
            "_________________________________________________________________\n",
            "Conv2 (Conv2D)               (None, 24, 24, 64)        18496     \n",
            "_________________________________________________________________\n",
            "MaxPool (MaxPooling2D)       (None, 12, 12, 64)        0         \n",
            "_________________________________________________________________\n",
            "Dropout1 (Dropout)           (None, 12, 12, 64)        0         \n",
            "_________________________________________________________________\n",
            "Flat (Flatten)               (None, 9216)              0         \n",
            "_________________________________________________________________\n",
            "FC1 (Dense)                  (None, 128)               1179776   \n",
            "_________________________________________________________________\n",
            "Dropout2 (Dropout)           (None, 128)               0         \n",
            "_________________________________________________________________\n",
            "logits (Dense)               (None, 10)                1290      \n",
            "_________________________________________________________________\n",
            "Softmax (Activation)         (None, 10)                0         \n",
            "=================================================================\n",
            "Total params: 1,199,882\n",
            "Trainable params: 1,199,882\n",
            "Non-trainable params: 0\n",
            "_________________________________________________________________\n"
          ],
          "name": "stdout"
        }
      ]
    },
    {
      "cell_type": "code",
      "metadata": {
        "id": "TL35aWS5n0qt",
        "colab_type": "code",
        "outputId": "5ad730d8-6b97-41ee-9be8-50824f971e5c",
        "colab": {
          "base_uri": "https://localhost:8080/",
          "height": 381
        }
      },
      "source": [
        "(x_train, y_train), (x_test, y_test) = load_mnist()\n",
        "\n",
        "model.compile(optimizer='adam', loss='categorical_crossentropy', metrics=['accuracy'])\n",
        "history = model.fit(x_train, y_train, epochs=10, batch_size=64)  "
      ],
      "execution_count": 0,
      "outputs": [
        {
          "output_type": "stream",
          "text": [
            "Epoch 1/10\n",
            "60000/60000 [==============================] - 5s 87us/sample - loss: 0.2041 - acc: 0.9380\n",
            "Epoch 2/10\n",
            "60000/60000 [==============================] - 5s 85us/sample - loss: 0.0802 - acc: 0.9763\n",
            "Epoch 3/10\n",
            "60000/60000 [==============================] - 5s 83us/sample - loss: 0.0608 - acc: 0.9809\n",
            "Epoch 4/10\n",
            "60000/60000 [==============================] - 5s 84us/sample - loss: 0.0492 - acc: 0.9851\n",
            "Epoch 5/10\n",
            "60000/60000 [==============================] - 5s 84us/sample - loss: 0.0415 - acc: 0.9869\n",
            "Epoch 6/10\n",
            "60000/60000 [==============================] - 5s 84us/sample - loss: 0.0376 - acc: 0.9880\n",
            "Epoch 7/10\n",
            "60000/60000 [==============================] - 5s 84us/sample - loss: 0.0348 - acc: 0.9889\n",
            "Epoch 8/10\n",
            "60000/60000 [==============================] - 5s 86us/sample - loss: 0.0272 - acc: 0.9913\n",
            "Epoch 9/10\n",
            "60000/60000 [==============================] - 5s 86us/sample - loss: 0.0259 - acc: 0.9915\n",
            "Epoch 10/10\n",
            "60000/60000 [==============================] - 5s 85us/sample - loss: 0.0230 - acc: 0.9925\n"
          ],
          "name": "stdout"
        }
      ]
    },
    {
      "cell_type": "code",
      "metadata": {
        "id": "htFhJ8CGn0oG",
        "colab_type": "code",
        "outputId": "1ce8a508-8440-40bb-faa0-a5b37e9ceeb0",
        "colab": {
          "base_uri": "https://localhost:8080/",
          "height": 72
        }
      },
      "source": [
        "test_loss, test_acc = model.evaluate(x_test, y_test)\n",
        "print(\"Test Loss:\", test_loss)\n",
        "print(\"Test Accuracy:\", test_acc)"
      ],
      "execution_count": 0,
      "outputs": [
        {
          "output_type": "stream",
          "text": [
            "10000/10000 [==============================] - 1s 94us/sample - loss: 0.0300 - acc: 0.9912\n",
            "Test Loss: 0.030046548787996424\n",
            "Test Accuracy: 0.9912\n"
          ],
          "name": "stdout"
        }
      ]
    },
    {
      "cell_type": "code",
      "metadata": {
        "id": "scfAuIqgn0mB",
        "colab_type": "code",
        "colab": {}
      },
      "source": [
        "\"\"\"\n",
        "Softmax with Temperature\n",
        "\"\"\"\n",
        "\n",
        "def softmax_with_temperature(logits, temperature=1):\n",
        "    logits = logits / temperature\n",
        "    return np.exp(logits) / np.sum(np.exp(logits))"
      ],
      "execution_count": 0,
      "outputs": []
    },
    {
      "cell_type": "code",
      "metadata": {
        "id": "geCoCARgn_nl",
        "colab_type": "code",
        "colab": {}
      },
      "source": [
        "model_prev_softmax = Model(inputs=model.input, outputs=model.get_layer(\"logits\").output)\n",
        "model_logits = model_prev_softmax.predict(x_train)\n",
        "unsoftened_train_prob = softmax_with_temperature(model_logits, 1)"
      ],
      "execution_count": 0,
      "outputs": []
    },
    {
      "cell_type": "code",
      "metadata": {
        "id": "asP6IWign_lk",
        "colab_type": "code",
        "colab": {}
      },
      "source": [
        "def plot_mnist_image(img_arr):\n",
        "  plt.imshow(img_arr.reshape([28, 28]) ,cmap='Greys_r')"
      ],
      "execution_count": 0,
      "outputs": []
    },
    {
      "cell_type": "code",
      "metadata": {
        "id": "-4meZs_Tn_jZ",
        "colab_type": "code",
        "outputId": "8c88da44-4818-4505-ef85-901106f56bc2",
        "colab": {
          "base_uri": "https://localhost:8080/",
          "height": 269
        }
      },
      "source": [
        "plot_mnist_image(x_train[0])"
      ],
      "execution_count": 0,
      "outputs": [
        {
          "output_type": "display_data",
          "data": {
            "image/png": "[encoded data removed]",
            "text/plain": [
              "<Figure size 432x288 with 1 Axes>"
            ]
          },
          "metadata": {
            "tags": []
          }
        }
      ]
    },
    {
      "cell_type": "code",
      "metadata": {
        "id": "RA09N-jGn_gk",
        "colab_type": "code",
        "outputId": "df8faa1f-a264-43aa-9b91-14b8ef3d46c9",
        "colab": {
          "base_uri": "https://localhost:8080/",
          "height": 90
        }
      },
      "source": [
        "print(\"Unsoftened probabilities: \", unsoftened_train_prob[0])\n",
        "print()\n",
        "print(\"Prediction based on unsoftened probability: \", np.argmax(unsoftened_train_prob[0]))"
      ],
      "execution_count": 0,
      "outputs": [
        {
          "output_type": "stream",
          "text": [
            "Unsoftened probabilities:  [2.9399757e-23 7.7865502e-24 3.3027068e-24 6.2618165e-16 1.4026793e-27\n",
            " 7.1093457e-12 2.4744464e-21 3.6832551e-24 9.0432768e-20 5.3667499e-19]\n",
            "\n",
            "Prediction based on unsoftened probability:  5\n"
          ],
          "name": "stdout"
        }
      ]
    },
    {
      "cell_type": "code",
      "metadata": {
        "id": "qhDTycxen_eJ",
        "colab_type": "code",
        "colab": {}
      },
      "source": [
        "temperature = 4\n",
        "softened_train_prob = softmax_with_temperature(model_logits, temperature)"
      ],
      "execution_count": 0,
      "outputs": []
    },
    {
      "cell_type": "code",
      "metadata": {
        "id": "3SUt7kk5oadN",
        "colab_type": "code",
        "outputId": "34e5d219-469a-4e4f-ed23-17d88914f771",
        "colab": {
          "base_uri": "https://localhost:8080/",
          "height": 90
        }
      },
      "source": [
        "print(\"Softened probabilities: \", softened_train_prob[0])\n",
        "print()\n",
        "print(\"Prediction based on Softened probability: \", np.argmax(softened_train_prob[0]))"
      ],
      "execution_count": 0,
      "outputs": [
        {
          "output_type": "stream",
          "text": [
            "Softened probabilities:  [5.1947024e-09 3.7265848e-09 3.0074072e-09 3.5289850e-07 4.3173209e-10\n",
            " 3.6427730e-06 1.5734186e-08 3.0905281e-09 3.8686210e-08 6.0381318e-08]\n",
            "\n",
            "Prediction based on Softened probability:  5\n"
          ],
          "name": "stdout"
        }
      ]
    },
    {
      "cell_type": "code",
      "metadata": {
        "id": "qqZJ5-lJoabh",
        "colab_type": "code",
        "colab": {}
      },
      "source": [
        "def build_small_model():\n",
        "    inputs = layers.Input(shape=(28, 28, 1))\n",
        "    x = layers.Flatten()(inputs)\n",
        "    x = layers.Dense(128, activation='relu', name='FC1')(x)\n",
        "    x = layers.Dense(128, activation='relu', name='FC2')(x)\n",
        "    x = layers.Dense(10, name='logits')(x)\n",
        "    preds = layers.Activation('softmax', name='Softmax')(x)\n",
        "\n",
        "    model = Model(inputs=inputs, outputs=preds)\n",
        "    model.summary()\n",
        "    return model"
      ],
      "execution_count": 0,
      "outputs": []
    },
    {
      "cell_type": "code",
      "metadata": {
        "id": "T8iWHDXxoaZt",
        "colab_type": "code",
        "outputId": "1882e857-77f8-4e67-9f3b-fe642e9a3ac0",
        "colab": {
          "base_uri": "https://localhost:8080/",
          "height": 381
        }
      },
      "source": [
        "small_model = build_small_model()"
      ],
      "execution_count": 0,
      "outputs": [
        {
          "output_type": "stream",
          "text": [
            "Model: \"model_4\"\n",
            "_________________________________________________________________\n",
            "Layer (type)                 Output Shape              Param #   \n",
            "=================================================================\n",
            "input_3 (InputLayer)         [(None, 28, 28, 1)]       0         \n",
            "_________________________________________________________________\n",
            "flatten (Flatten)            (None, 784)               0         \n",
            "_________________________________________________________________\n",
            "FC1 (Dense)                  (None, 128)               100480    \n",
            "_________________________________________________________________\n",
            "FC2 (Dense)                  (None, 128)               16512     \n",
            "_________________________________________________________________\n",
            "logits (Dense)               (None, 10)                1290      \n",
            "_________________________________________________________________\n",
            "Softmax (Activation)         (None, 10)                0         \n",
            "=================================================================\n",
            "Total params: 118,282\n",
            "Trainable params: 118,282\n",
            "Non-trainable params: 0\n",
            "_________________________________________________________________\n"
          ],
          "name": "stdout"
        }
      ]
    },
    {
      "cell_type": "code",
      "metadata": {
        "id": "jCeNOQ76oaWr",
        "colab_type": "code",
        "colab": {}
      },
      "source": [
        "small_model.compile(optimizer=Adam(lr=0.001), loss='categorical_crossentropy', metrics=['accuracy'])"
      ],
      "execution_count": 0,
      "outputs": []
    },
    {
      "cell_type": "code",
      "metadata": {
        "id": "5rNAe9hUolrA",
        "colab_type": "code",
        "outputId": "f6bcc120-d0c8-4c58-9f61-343f4acbd16b",
        "colab": {
          "base_uri": "https://localhost:8080/",
          "height": 399
        }
      },
      "source": [
        "small_model.fit(x_train, y_train, epochs=10, batch_size=64)"
      ],
      "execution_count": 0,
      "outputs": [
        {
          "output_type": "stream",
          "text": [
            "Epoch 1/10\n",
            "60000/60000 [==============================] - 3s 44us/sample - loss: 0.2584 - acc: 0.9252\n",
            "Epoch 2/10\n",
            "60000/60000 [==============================] - 2s 40us/sample - loss: 0.1079 - acc: 0.9681\n",
            "Epoch 3/10\n",
            "60000/60000 [==============================] - 2s 41us/sample - loss: 0.0749 - acc: 0.9772\n",
            "Epoch 4/10\n",
            "60000/60000 [==============================] - 2s 40us/sample - loss: 0.0571 - acc: 0.9818\n",
            "Epoch 5/10\n",
            "60000/60000 [==============================] - 2s 40us/sample - loss: 0.0432 - acc: 0.9858\n",
            "Epoch 6/10\n",
            "60000/60000 [==============================] - 2s 40us/sample - loss: 0.0378 - acc: 0.9876\n",
            "Epoch 7/10\n",
            "60000/60000 [==============================] - 2s 40us/sample - loss: 0.0276 - acc: 0.9910\n",
            "Epoch 8/10\n",
            "60000/60000 [==============================] - 2s 41us/sample - loss: 0.0246 - acc: 0.9917\n",
            "Epoch 9/10\n",
            "60000/60000 [==============================] - 2s 41us/sample - loss: 0.0211 - acc: 0.9929\n",
            "Epoch 10/10\n",
            "60000/60000 [==============================] - 2s 40us/sample - loss: 0.0174 - acc: 0.9939\n"
          ],
          "name": "stdout"
        },
        {
          "output_type": "execute_result",
          "data": {
            "text/plain": [
              "<tensorflow.python.keras.callbacks.History at 0x7f51e46b2b38>"
            ]
          },
          "metadata": {
            "tags": []
          },
          "execution_count": 47
        }
      ]
    },
    {
      "cell_type": "code",
      "metadata": {
        "id": "wfcXpTwGolor",
        "colab_type": "code",
        "outputId": "a85c028b-f436-491f-dabd-0b27b0c04800",
        "colab": {
          "base_uri": "https://localhost:8080/",
          "height": 72
        }
      },
      "source": [
        "test_loss, test_acc = small_model.evaluate(x_test, y_test)\n",
        "print(\"Test Loss:\", test_loss)\n",
        "print(\"Test Accuracy:\", test_acc)"
      ],
      "execution_count": 0,
      "outputs": [
        {
          "output_type": "stream",
          "text": [
            "10000/10000 [==============================] - 1s 54us/sample - loss: 0.0842 - acc: 0.9790\n",
            "Test Loss: 0.08423439382088946\n",
            "Test Accuracy: 0.979\n"
          ],
          "name": "stdout"
        }
      ]
    },
    {
      "cell_type": "code",
      "metadata": {
        "id": "i6vSpTuqolm4",
        "colab_type": "code",
        "outputId": "f33efd50-2ce1-4ebe-aa0a-e696c3f33957",
        "colab": {
          "base_uri": "https://localhost:8080/",
          "height": 799
        }
      },
      "source": [
        "\"\"\"\n",
        "Knowledge Transfering\n",
        "\"\"\"\n",
        "\n",
        "new_small_model = build_small_model()\n",
        "logits = new_small_model.get_layer('logits').output\n",
        "logits = layers.Lambda(lambda x: x / temperature, name='Temperature')(logits)\n",
        "preds = layers.Activation('softmax', name='Softmax')(logits)\n",
        "  \n",
        "new_small_model = Model(inputs=new_small_model.input, outputs=preds)\n",
        "print(\"New Model Summary\")\n",
        "new_small_model.summary()"
      ],
      "execution_count": 0,
      "outputs": [
        {
          "output_type": "stream",
          "text": [
            "Model: \"model_5\"\n",
            "_________________________________________________________________\n",
            "Layer (type)                 Output Shape              Param #   \n",
            "=================================================================\n",
            "input_4 (InputLayer)         [(None, 28, 28, 1)]       0         \n",
            "_________________________________________________________________\n",
            "flatten_1 (Flatten)          (None, 784)               0         \n",
            "_________________________________________________________________\n",
            "FC1 (Dense)                  (None, 128)               100480    \n",
            "_________________________________________________________________\n",
            "FC2 (Dense)                  (None, 128)               16512     \n",
            "_________________________________________________________________\n",
            "logits (Dense)               (None, 10)                1290      \n",
            "_________________________________________________________________\n",
            "Softmax (Activation)         (None, 10)                0         \n",
            "=================================================================\n",
            "Total params: 118,282\n",
            "Trainable params: 118,282\n",
            "Non-trainable params: 0\n",
            "_________________________________________________________________\n",
            "New Model Summary\n",
            "Model: \"model_6\"\n",
            "_________________________________________________________________\n",
            "Layer (type)                 Output Shape              Param #   \n",
            "=================================================================\n",
            "input_4 (InputLayer)         [(None, 28, 28, 1)]       0         \n",
            "_________________________________________________________________\n",
            "flatten_1 (Flatten)          (None, 784)               0         \n",
            "_________________________________________________________________\n",
            "FC1 (Dense)                  (None, 128)               100480    \n",
            "_________________________________________________________________\n",
            "FC2 (Dense)                  (None, 128)               16512     \n",
            "_________________________________________________________________\n",
            "logits (Dense)               (None, 10)                1290      \n",
            "_________________________________________________________________\n",
            "Temperature (Lambda)         (None, 10)                0         \n",
            "_________________________________________________________________\n",
            "Softmax (Activation)         (None, 10)                0         \n",
            "=================================================================\n",
            "Total params: 118,282\n",
            "Trainable params: 118,282\n",
            "Non-trainable params: 0\n",
            "_________________________________________________________________\n"
          ],
          "name": "stdout"
        }
      ]
    },
    {
      "cell_type": "code",
      "metadata": {
        "id": "3TiKwzwGolje",
        "colab_type": "code",
        "outputId": "4073b9d2-fc25-4781-bb1a-7fbc8b491835",
        "colab": {
          "base_uri": "https://localhost:8080/",
          "height": 399
        }
      },
      "source": [
        "new_small_model.compile(optimizer=Adam(lr=0.001), loss='categorical_crossentropy', metrics=['accuracy'])\n",
        "new_small_model.fit(x_train, softened_train_prob, epochs=10, batch_size=64)"
      ],
      "execution_count": 0,
      "outputs": [
        {
          "output_type": "stream",
          "text": [
            "Epoch 1/10\n",
            "60000/60000 [==============================] - 3s 43us/sample - loss: 221.2708 - acc: 0.1010\n",
            "Epoch 2/10\n",
            "60000/60000 [==============================] - 2s 41us/sample - loss: 239.9347 - acc: 0.1012\n",
            "Epoch 3/10\n",
            "60000/60000 [==============================] - 2s 41us/sample - loss: 242.7868 - acc: 0.0992\n",
            "Epoch 4/10\n",
            "60000/60000 [==============================] - 2s 41us/sample - loss: 228.1774 - acc: 0.1003\n",
            "Epoch 5/10\n",
            "60000/60000 [==============================] - 2s 41us/sample - loss: 237.0359 - acc: 0.1010\n",
            "Epoch 6/10\n",
            "60000/60000 [==============================] - 2s 41us/sample - loss: 231.9363 - acc: 0.1014\n",
            "Epoch 7/10\n",
            "60000/60000 [==============================] - 2s 41us/sample - loss: 220.2623 - acc: 0.1022\n",
            "Epoch 8/10\n",
            "60000/60000 [==============================] - 2s 41us/sample - loss: 243.5526 - acc: 0.1031\n",
            "Epoch 9/10\n",
            "60000/60000 [==============================] - 2s 41us/sample - loss: 235.3285 - acc: 0.1000\n",
            "Epoch 10/10\n",
            "60000/60000 [==============================] - 2s 41us/sample - loss: 235.7414 - acc: 0.1012\n"
          ],
          "name": "stdout"
        },
        {
          "output_type": "execute_result",
          "data": {
            "text/plain": [
              "<tensorflow.python.keras.callbacks.History at 0x7f5111bd1a58>"
            ]
          },
          "metadata": {
            "tags": []
          },
          "execution_count": 57
        }
      ]
    },
    {
      "cell_type": "code",
      "metadata": {
        "id": "XKXf69hdoy79",
        "colab_type": "code",
        "outputId": "2a6baf50-ab04-4b44-f77c-d91fc4102284",
        "colab": {
          "base_uri": "https://localhost:8080/",
          "height": 72
        }
      },
      "source": [
        "test_loss, test_acc = new_small_model.evaluate(x_test, y_test)\n",
        "print(\"Test Loss:\", test_loss)\n",
        "print(\"Test Accuracy:\", test_acc)"
      ],
      "execution_count": 0,
      "outputs": [
        {
          "output_type": "stream",
          "text": [
            "10000/10000 [==============================] - 1s 55us/sample - loss: 11595710.4640 - acc: 0.0958\n",
            "Test Loss: 11595710.464\n",
            "Test Accuracy: 0.0958\n"
          ],
          "name": "stdout"
        }
      ]
    },
    {
      "cell_type": "code",
      "metadata": {
        "id": "fIBykatGoy6A",
        "colab_type": "code",
        "colab": {}
      },
      "source": [
        ""
      ],
      "execution_count": 0,
      "outputs": []
    },
    {
      "cell_type": "code",
      "metadata": {
        "id": "MSQ-3kRAoy3c",
        "colab_type": "code",
        "colab": {}
      },
      "source": [
        ""
      ],
      "execution_count": 0,
      "outputs": []
    }
  ]
}