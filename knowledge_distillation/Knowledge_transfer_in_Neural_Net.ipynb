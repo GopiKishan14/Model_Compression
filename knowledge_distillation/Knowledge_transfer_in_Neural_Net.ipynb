{
 "cells": [
  {
   "cell_type": "code",
   "execution_count": 1,
   "metadata": {},
   "outputs": [
    {
     "name": "stderr",
     "output_type": "stream",
     "text": [
      "/home/gopi/anaconda3/lib/python3.6/site-packages/h5py/__init__.py:36: FutureWarning: Conversion of the second argument of issubdtype from `float` to `np.floating` is deprecated. In future, it will be treated as `np.float64 == np.dtype(float).type`.\n",
      "  from ._conv import register_converters as _register_converters\n"
     ]
    }
   ],
   "source": [
    "##### import tensorflow as tf\n",
    "import numpy as np\n",
    "\n",
    "from tensorflow.keras.datasets import mnist\n",
    "from tensorflow.keras import layers, models\n",
    "from tensorflow.keras.utils import to_categorical\n",
    "from tensorflow.keras.constraints import max_norm\n",
    "from tensorflow.keras.models import Model\n",
    "from tensorflow.keras.losses import categorical_crossentropy\n",
    "from tensorflow.keras.optimizers import RMSprop,Adam\n",
    "\n",
    "import matplotlib.pyplot as plt\n",
    "%matplotlib inline"
   ]
  },
  {
   "cell_type": "code",
   "execution_count": 2,
   "metadata": {},
   "outputs": [],
   "source": [
    "\"\"\"\n",
    "Loading MNIST Dataset\n",
    "\"\"\"\n",
    "\n",
    "def load_mnist():\n",
    "    (x_train,y_train), (x_test,y_test) = mnist.load_data()\n",
    "    \n",
    "    x_train = x_train.reshape(-1, 28, 28, 1).astype('float32') / 255.\n",
    "    x_test = x_test.reshape(-1, 28, 28, 1).astype('float32') / 255.\n",
    "\n",
    "    y_train = to_categorical(y_train.astype('float32'))\n",
    "    y_test = to_categorical(y_test.astype('float32'))\n",
    "\n",
    "    return (x_train, y_train), (x_test, y_test)"
   ]
  },
  {
   "cell_type": "code",
   "execution_count": 3,
   "metadata": {},
   "outputs": [],
   "source": [
    "\"\"\"\n",
    "Initial CNN Model\n",
    "\"\"\"\n",
    "def build_simple_model():\n",
    "    inputs = layers.Input(shape=(28,28,1))\n",
    "    x = layers.Conv2D(32, kernel_size=(3,3), activation='relu', name=\"Conv1\")(inputs)\n",
    "    x = layers.Conv2D(64, kernel_size=(3,3), activation='relu', name=\"Conv2\")(x)\n",
    "    \n",
    "    x = layers.MaxPooling2D(pool_size=(2,2), name='MaxPool')(x)\n",
    "    x = layers.Dropout(rate=0.25, name='Dropout1')(x)\n",
    "    \n",
    "    x = layers.Flatten(name='Flat')(x)\n",
    "    x = layers.Dense(128, activation='relu', name='FC1')(x)\n",
    "    x = layers.Dropout(rate=0.5, name='Dropout2')(x)\n",
    "\n",
    "    \n",
    "    x = layers.Dense(10, name='logits')(x)\n",
    "    preds = layers.Activation('softmax', name='Softmax')(x)\n",
    "\n",
    "    model = Model(inputs=inputs, outputs=preds)\n",
    "    model.summary()\n",
    "    return model"
   ]
  },
  {
   "cell_type": "code",
   "execution_count": 4,
   "metadata": {},
   "outputs": [
    {
     "name": "stdout",
     "output_type": "stream",
     "text": [
      "_________________________________________________________________\n",
      "Layer (type)                 Output Shape              Param #   \n",
      "=================================================================\n",
      "input_1 (InputLayer)         (None, 28, 28, 1)         0         \n",
      "_________________________________________________________________\n",
      "Conv1 (Conv2D)               (None, 26, 26, 32)        320       \n",
      "_________________________________________________________________\n",
      "Conv2 (Conv2D)               (None, 24, 24, 64)        18496     \n",
      "_________________________________________________________________\n",
      "MaxPool (MaxPooling2D)       (None, 12, 12, 64)        0         \n",
      "_________________________________________________________________\n",
      "Dropout1 (Dropout)           (None, 12, 12, 64)        0         \n",
      "_________________________________________________________________\n",
      "Flat (Flatten)               (None, 9216)              0         \n",
      "_________________________________________________________________\n",
      "FC1 (Dense)                  (None, 128)               1179776   \n",
      "_________________________________________________________________\n",
      "Dropout2 (Dropout)           (None, 128)               0         \n",
      "_________________________________________________________________\n",
      "logits (Dense)               (None, 10)                1290      \n",
      "_________________________________________________________________\n",
      "Softmax (Activation)         (None, 10)                0         \n",
      "=================================================================\n",
      "Total params: 1,199,882\n",
      "Trainable params: 1,199,882\n",
      "Non-trainable params: 0\n",
      "_________________________________________________________________\n"
     ]
    }
   ],
   "source": [
    "model = build_simple_model()"
   ]
  },
  {
   "cell_type": "code",
   "execution_count": null,
   "metadata": {},
   "outputs": [
    {
     "name": "stdout",
     "output_type": "stream",
     "text": [
      "Epoch 1/10\n",
      " 1536/60000 [..............................] - ETA: 18:16 - loss: 2.1586 - acc: 0.3014"
     ]
    }
   ],
   "source": [
    "(x_train, y_train), (x_test, y_test) = load_mnist()\n",
    "\n",
    "model.compile(optimizer='adam', loss='categorical_crossentropy', metrics=['accuracy'])\n",
    "history = model.fit(x_train, y_train, epochs=10, batch_size=512)  "
   ]
  },
  {
   "cell_type": "code",
   "execution_count": 7,
   "metadata": {},
   "outputs": [
    {
     "name": "stdout",
     "output_type": "stream",
     "text": [
      "10000/10000 [==============================] - 5s 545us/step\n",
      "Test Loss: 0.03430916118031746\n",
      "Test Accuracy: 0.9884\n"
     ]
    }
   ],
   "source": [
    "test_loss, test_acc = model.evaluate(x_test, y_test)\n",
    "print(\"Test Loss:\", test_loss)\n",
    "print(\"Test Accuracy:\", test_acc)"
   ]
  },
  {
   "cell_type": "code",
   "execution_count": 8,
   "metadata": {},
   "outputs": [],
   "source": [
    "\"\"\"\n",
    "Softmax with Temperature\n",
    "\"\"\"\n",
    "\n",
    "def softmax_with_temperature(logits, temperature=1):\n",
    "    logits = logits / temperature\n",
    "    return np.exp(logits) / np.sum(np.exp(logits))"
   ]
  },
  {
   "cell_type": "code",
   "execution_count": 9,
   "metadata": {},
   "outputs": [],
   "source": [
    "model_prev_softmax = Model(inputs=model.input, outputs=model.get_layer(\"logits\").output)\n",
    "model_logits = model_prev_softmax.predict(x_train)"
   ]
  },
  {
   "cell_type": "code",
   "execution_count": 10,
   "metadata": {},
   "outputs": [],
   "source": [
    "unsoftened_train_prob = softmax_with_temperature(model_logits, 1)"
   ]
  },
  {
   "cell_type": "code",
   "execution_count": 11,
   "metadata": {},
   "outputs": [],
   "source": [
    "def plot_mnist_image(img_arr):\n",
    "  plt.imshow(img_arr.reshape([28, 28]))"
   ]
  },
  {
   "cell_type": "code",
   "execution_count": 12,
   "metadata": {},
   "outputs": [
    {
     "data": {
      "image/png": "[encoded data removed]",
      "text/plain": [
       "<matplotlib.figure.Figure at 0x7f09eaff3128>"
      ]
     },
     "metadata": {},
     "output_type": "display_data"
    }
   ],
   "source": [
    "plot_mnist_image(x_train[0])"
   ]
  },
  {
   "cell_type": "code",
   "execution_count": 13,
   "metadata": {},
   "outputs": [
    {
     "name": "stdout",
     "output_type": "stream",
     "text": [
      "Unsoftened probabilities:  [1.2512286e-16 1.3515365e-15 3.9405431e-16 1.3119422e-10 1.9544782e-16\n",
      " 6.8480372e-09 2.6516942e-14 1.3813276e-14 3.4258627e-14 1.3671341e-13]\n",
      "\n",
      "Prediction based on unsoftened probability:  5\n"
     ]
    }
   ],
   "source": [
    "print(\"Unsoftened probabilities: \", unsoftened_train_prob[0])\n",
    "print()\n",
    "print(\"Prediction based on unsoftened probability: \", np.argmax(unsoftened_train_prob[0]))"
   ]
  },
  {
   "cell_type": "code",
   "execution_count": 14,
   "metadata": {},
   "outputs": [],
   "source": [
    "temperature = 4\n",
    "softened_train_prob = softmax_with_temperature(model_logits, temperature)"
   ]
  },
  {
   "cell_type": "code",
   "execution_count": 15,
   "metadata": {},
   "outputs": [
    {
     "name": "stdout",
     "output_type": "stream",
     "text": [
      "Softened probabilities:  [5.1590593e-08 9.3528350e-08 6.8726678e-08 1.6508782e-06 5.7675859e-08\n",
      " 4.4373928e-06 1.9684174e-07 1.6722858e-07 2.0985958e-07 2.9661228e-07]\n",
      "\n",
      "Prediction based on Softened probability:  5\n"
     ]
    }
   ],
   "source": [
    "print(\"Softened probabilities: \", softened_train_prob[0])\n",
    "print()\n",
    "print(\"Prediction based on Softened probability: \", np.argmax(softened_train_prob[0]))"
   ]
  },
  {
   "cell_type": "code",
   "execution_count": 16,
   "metadata": {},
   "outputs": [
    {
     "data": {
      "image/png": "[encoded data removed]",
      "text/plain": [
       "<matplotlib.figure.Figure at 0x7f09ea6cb780>"
      ]
     },
     "metadata": {},
     "output_type": "display_data"
    }
   ],
   "source": [
    "plot_mnist_image(x_train[16])"
   ]
  },
  {
   "cell_type": "code",
   "execution_count": 17,
   "metadata": {},
   "outputs": [
    {
     "name": "stdout",
     "output_type": "stream",
     "text": [
      "Softened probabilities:  [2.1526787e-07 6.7508154e-08 9.8014007e-06 3.4076433e-07 6.0945318e-08\n",
      " 8.7571721e-08 3.4415706e-08 9.5475548e-07 3.2501762e-07 9.4076306e-08]\n",
      "\n",
      "Prediction based on softened probability:  2\n"
     ]
    }
   ],
   "source": [
    "print(\"Softened probabilities: \", softened_train_prob[16])\n",
    "print()\n",
    "print(\"Prediction based on softened probability: \", np.argmax(softened_train_prob[16]))"
   ]
  },
  {
   "cell_type": "code",
   "execution_count": 18,
   "metadata": {},
   "outputs": [],
   "source": [
    "def build_small_model():\n",
    "    inputs = layers.Input(shape=(28, 28, 1))\n",
    "    x = layers.Flatten()(inputs)\n",
    "    x = layers.Dense(128, activation='relu', name='FC1')(x)\n",
    "    x = layers.Dense(128, activation='relu', name='FC2')(x)\n",
    "    x = layers.Dense(10, name='logits')(x)\n",
    "    preds = layers.Activation('softmax', name='Softmax')(x)\n",
    "\n",
    "    model = Model(inputs=inputs, outputs=preds)\n",
    "    model.summary()\n",
    "    return model"
   ]
  },
  {
   "cell_type": "code",
   "execution_count": 19,
   "metadata": {},
   "outputs": [
    {
     "name": "stdout",
     "output_type": "stream",
     "text": [
      "_________________________________________________________________\n",
      "Layer (type)                 Output Shape              Param #   \n",
      "=================================================================\n",
      "input_2 (InputLayer)         (None, 28, 28, 1)         0         \n",
      "_________________________________________________________________\n",
      "flatten (Flatten)            (None, 784)               0         \n",
      "_________________________________________________________________\n",
      "FC1 (Dense)                  (None, 128)               100480    \n",
      "_________________________________________________________________\n",
      "FC2 (Dense)                  (None, 128)               16512     \n",
      "_________________________________________________________________\n",
      "logits (Dense)               (None, 10)                1290      \n",
      "_________________________________________________________________\n",
      "Softmax (Activation)         (None, 10)                0         \n",
      "=================================================================\n",
      "Total params: 118,282\n",
      "Trainable params: 118,282\n",
      "Non-trainable params: 0\n",
      "_________________________________________________________________\n"
     ]
    }
   ],
   "source": [
    "small_model = build_small_model()"
   ]
  },
  {
   "cell_type": "code",
   "execution_count": 21,
   "metadata": {},
   "outputs": [],
   "source": [
    "small_model.compile(optimizer=Adam(lr=0.001), loss='categorical_crossentropy', metrics=['accuracy'])"
   ]
  },
  {
   "cell_type": "code",
   "execution_count": 31,
   "metadata": {},
   "outputs": [
    {
     "name": "stdout",
     "output_type": "stream",
     "text": [
      "Epoch 1/30\n",
      "60000/60000 [==============================] - 1s 16us/step - loss: 0.0371 - acc: 0.9892\n",
      "Epoch 2/30\n",
      "60000/60000 [==============================] - 1s 16us/step - loss: 0.0318 - acc: 0.9911\n",
      "Epoch 3/30\n",
      "60000/60000 [==============================] - 1s 17us/step - loss: 0.0285 - acc: 0.9925\n",
      "Epoch 4/30\n",
      "60000/60000 [==============================] - 1s 15us/step - loss: 0.0242 - acc: 0.9941\n",
      "Epoch 5/30\n",
      "60000/60000 [==============================] - 1s 15us/step - loss: 0.0201 - acc: 0.9949\n",
      "Epoch 6/30\n",
      "60000/60000 [==============================] - 1s 15us/step - loss: 0.0203 - acc: 0.9947\n",
      "Epoch 7/30\n",
      "60000/60000 [==============================] - 1s 16us/step - loss: 0.0165 - acc: 0.9961\n",
      "Epoch 8/30\n",
      "60000/60000 [==============================] - 1s 15us/step - loss: 0.0131 - acc: 0.9974\n",
      "Epoch 9/30\n",
      "60000/60000 [==============================] - 1s 16us/step - loss: 0.0121 - acc: 0.9974\n",
      "Epoch 10/30\n",
      "60000/60000 [==============================] - 1s 15us/step - loss: 0.0099 - acc: 0.9981\n",
      "Epoch 11/30\n",
      "60000/60000 [==============================] - 1s 16us/step - loss: 0.0083 - acc: 0.9987\n",
      "Epoch 12/30\n",
      "60000/60000 [==============================] - 1s 16us/step - loss: 0.0084 - acc: 0.9984\n",
      "Epoch 13/30\n",
      "60000/60000 [==============================] - 1s 16us/step - loss: 0.0084 - acc: 0.9983\n",
      "Epoch 14/30\n",
      "60000/60000 [==============================] - 1s 16us/step - loss: 0.0059 - acc: 0.9993\n",
      "Epoch 15/30\n",
      "60000/60000 [==============================] - 1s 18us/step - loss: 0.0047 - acc: 0.9996\n",
      "Epoch 16/30\n",
      "60000/60000 [==============================] - 1s 17us/step - loss: 0.0043 - acc: 0.9996\n",
      "Epoch 17/30\n",
      "60000/60000 [==============================] - 1s 16us/step - loss: 0.0033 - acc: 0.9997\n",
      "Epoch 18/30\n",
      "60000/60000 [==============================] - 1s 17us/step - loss: 0.0039 - acc: 0.9995\n",
      "Epoch 19/30\n",
      "60000/60000 [==============================] - 1s 16us/step - loss: 0.0032 - acc: 0.9997\n",
      "Epoch 20/30\n",
      "60000/60000 [==============================] - 1s 16us/step - loss: 0.0026 - acc: 0.9999\n",
      "Epoch 21/30\n",
      "60000/60000 [==============================] - 1s 16us/step - loss: 0.0018 - acc: 1.0000\n",
      "Epoch 22/30\n",
      "60000/60000 [==============================] - 1s 16us/step - loss: 0.0015 - acc: 1.0000\n",
      "Epoch 23/30\n",
      "60000/60000 [==============================] - 1s 16us/step - loss: 0.0013 - acc: 1.0000\n",
      "Epoch 24/30\n",
      "60000/60000 [==============================] - 1s 16us/step - loss: 0.0012 - acc: 1.0000\n",
      "Epoch 25/30\n",
      "60000/60000 [==============================] - 1s 16us/step - loss: 0.0011 - acc: 1.0000\n",
      "Epoch 26/30\n",
      "60000/60000 [==============================] - 1s 16us/step - loss: 0.0011 - acc: 1.0000\n",
      "Epoch 27/30\n",
      "60000/60000 [==============================] - 1s 19us/step - loss: 0.0029 - acc: 0.9993\n",
      "Epoch 28/30\n",
      "60000/60000 [==============================] - 1s 16us/step - loss: 0.0333 - acc: 0.9893\n",
      "Epoch 29/30\n",
      "60000/60000 [==============================] - 1s 16us/step - loss: 0.0140 - acc: 0.9951\n",
      "Epoch 30/30\n",
      "60000/60000 [==============================] - 1s 19us/step - loss: 0.0061 - acc: 0.9983\n"
     ]
    },
    {
     "data": {
      "text/plain": [
       "<tensorflow.python.keras.callbacks.History at 0x7f09e85f2128>"
      ]
     },
     "execution_count": 31,
     "metadata": {},
     "output_type": "execute_result"
    }
   ],
   "source": [
    "small_model.fit(x_train, y_train, epochs=30, batch_size=512)"
   ]
  },
  {
   "cell_type": "code",
   "execution_count": 32,
   "metadata": {},
   "outputs": [
    {
     "name": "stdout",
     "output_type": "stream",
     "text": [
      "10000/10000 [==============================] - 0s 29us/step\n",
      "Test Loss: 0.10984879909294341\n",
      "Test Accuracy: 0.9758\n"
     ]
    }
   ],
   "source": [
    "test_loss, test_acc = small_model.evaluate(x_test, y_test)\n",
    "print(\"Test Loss:\", test_loss)\n",
    "print(\"Test Accuracy:\", test_acc)"
   ]
  },
  {
   "cell_type": "code",
   "execution_count": 28,
   "metadata": {},
   "outputs": [
    {
     "name": "stdout",
     "output_type": "stream",
     "text": [
      "_________________________________________________________________\n",
      "Layer (type)                 Output Shape              Param #   \n",
      "=================================================================\n",
      "input_7 (InputLayer)         (None, 28, 28, 1)         0         \n",
      "_________________________________________________________________\n",
      "flatten_5 (Flatten)          (None, 784)               0         \n",
      "_________________________________________________________________\n",
      "FC1 (Dense)                  (None, 128)               100480    \n",
      "_________________________________________________________________\n",
      "FC2 (Dense)                  (None, 128)               16512     \n",
      "_________________________________________________________________\n",
      "logits (Dense)               (None, 10)                1290      \n",
      "_________________________________________________________________\n",
      "Softmax (Activation)         (None, 10)                0         \n",
      "=================================================================\n",
      "Total params: 118,282\n",
      "Trainable params: 118,282\n",
      "Non-trainable params: 0\n",
      "_________________________________________________________________\n",
      "New Model Summary\n",
      "_________________________________________________________________\n",
      "Layer (type)                 Output Shape              Param #   \n",
      "=================================================================\n",
      "input_7 (InputLayer)         (None, 28, 28, 1)         0         \n",
      "_________________________________________________________________\n",
      "flatten_5 (Flatten)          (None, 784)               0         \n",
      "_________________________________________________________________\n",
      "FC1 (Dense)                  (None, 128)               100480    \n",
      "_________________________________________________________________\n",
      "FC2 (Dense)                  (None, 128)               16512     \n",
      "_________________________________________________________________\n",
      "logits (Dense)               (None, 10)                1290      \n",
      "_________________________________________________________________\n",
      "Temperature (Lambda)         (None, 10)                0         \n",
      "_________________________________________________________________\n",
      "Softmax (Activation)         (None, 10)                0         \n",
      "=================================================================\n",
      "Total params: 118,282\n",
      "Trainable params: 118,282\n",
      "Non-trainable params: 0\n",
      "_________________________________________________________________\n"
     ]
    }
   ],
   "source": [
    "\"\"\"\n",
    "Knowledge Transfering\n",
    "\"\"\"\n",
    "\n",
    "new_small_model = build_small_model()\n",
    "logits = new_small_model.get_layer('logits').output\n",
    "logits = layers.Lambda(lambda x: x / temperature, name='Temperature')(logits)\n",
    "preds = layers.Activation('softmax', name='Softmax')(logits)\n",
    "  \n",
    "new_small_model = Model(inputs=new_small_model.input, outputs=preds)\n",
    "print(\"New Model Summary\")\n",
    "new_small_model.summary()"
   ]
  },
  {
   "cell_type": "code",
   "execution_count": 29,
   "metadata": {},
   "outputs": [
    {
     "name": "stdout",
     "output_type": "stream",
     "text": [
      "Epoch 1/10\n",
      "60000/60000 [==============================] - 1s 22us/step - loss: 1.9514e-05 - acc: 0.7014\n",
      "Epoch 2/10\n",
      "60000/60000 [==============================] - 1s 16us/step - loss: 1.2487e-05 - acc: 0.9153\n",
      "Epoch 3/10\n",
      "60000/60000 [==============================] - 1s 18us/step - loss: 1.1951e-05 - acc: 0.9390\n",
      "Epoch 4/10\n",
      "60000/60000 [==============================] - 1s 15us/step - loss: 1.1697e-05 - acc: 0.9518\n",
      "Epoch 5/10\n",
      "60000/60000 [==============================] - 1s 15us/step - loss: 1.1544e-05 - acc: 0.9609\n",
      "Epoch 6/10\n",
      "60000/60000 [==============================] - 1s 16us/step - loss: 1.1453e-05 - acc: 0.9666\n",
      "Epoch 7/10\n",
      "60000/60000 [==============================] - 1s 18us/step - loss: 1.1389e-05 - acc: 0.9709\n",
      "Epoch 8/10\n",
      "60000/60000 [==============================] - 1s 16us/step - loss: 1.1344e-05 - acc: 0.9746\n",
      "Epoch 9/10\n",
      "60000/60000 [==============================] - 1s 17us/step - loss: 1.1312e-05 - acc: 0.9765\n",
      "Epoch 10/10\n",
      "60000/60000 [==============================] - 1s 16us/step - loss: 1.1290e-05 - acc: 0.9779\n"
     ]
    },
    {
     "data": {
      "text/plain": [
       "<tensorflow.python.keras.callbacks.History at 0x7f09e8579fd0>"
      ]
     },
     "execution_count": 29,
     "metadata": {},
     "output_type": "execute_result"
    }
   ],
   "source": [
    "new_small_model.compile(optimizer=Adam(lr=0.03), loss='categorical_crossentropy', metrics=['accuracy'])\n",
    "new_small_model.fit(x_train, softened_train_prob, epochs=10, batch_size=512)"
   ]
  },
  {
   "cell_type": "code",
   "execution_count": 30,
   "metadata": {},
   "outputs": [
    {
     "name": "stdout",
     "output_type": "stream",
     "text": [
      "10000/10000 [==============================] - 0s 36us/step\n",
      "Test Loss: 0.3040420033931732\n",
      "Test Accuracy: 0.974\n"
     ]
    }
   ],
   "source": [
    "test_loss, test_acc = new_small_model.evaluate(x_test, y_test)\n",
    "print(\"Test Loss:\", test_loss)\n",
    "print(\"Test Accuracy:\", test_acc)"
   ]
  },
  {
   "cell_type": "code",
   "execution_count": null,
   "metadata": {},
   "outputs": [],
   "source": []
  },
  {
   "cell_type": "code",
   "execution_count": null,
   "metadata": {},
   "outputs": [],
   "source": []
  }
 ],
 "metadata": {
  "kernelspec": {
   "display_name": "Python 3",
   "language": "python",
   "name": "python3"
  },
  "language_info": {
   "codemirror_mode": {
    "name": "ipython",
    "version": 3
   },
   "file_extension": ".py",
   "mimetype": "text/x-python",
   "name": "python",
   "nbconvert_exporter": "python",
   "pygments_lexer": "ipython3",
   "version": "3.6.4"
  }
 },
 "nbformat": 4,
 "nbformat_minor": 2
}
