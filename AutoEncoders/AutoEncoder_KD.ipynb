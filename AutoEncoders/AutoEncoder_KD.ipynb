{
  "nbformat": 4,
  "nbformat_minor": 0,
  "metadata": {
    "colab": {
      "name": "AutoEncoder_KD",
      "version": "0.3.2",
      "provenance": []
    },
    "kernelspec": {
      "name": "python3",
      "display_name": "Python 3"
    },
    "accelerator": "GPU"
  },
  "cells": [
    {
      "cell_type": "code",
      "metadata": {
        "id": "FFkD89Bz9Fyo",
        "colab_type": "code",
        "colab": {}
      },
      "source": [
        "%matplotlib inline\n",
        "\n",
        "import numpy as np\n",
        "import tensorflow as tf\n",
        "import matplotlib.pyplot as plt"
      ],
      "execution_count": 0,
      "outputs": []
    },
    {
      "cell_type": "code",
      "metadata": {
        "id": "DW_DmOR19MBp",
        "colab_type": "code",
        "outputId": "a45eb5e5-8510-4da2-b5f6-cc0200c791b1",
        "colab": {
          "base_uri": "https://localhost:8080/",
          "height": 528
        }
      },
      "source": [
        "from tensorflow.examples.tutorials.mnist import input_data\n",
        "mnist = input_data.read_data_sets('MNIST_data', validation_size=0)"
      ],
      "execution_count": 0,
      "outputs": [
        {
          "output_type": "stream",
          "text": [
            "WARNING: Logging before flag parsing goes to stderr.\n",
            "W0703 20:24:28.298087 140348197648256 deprecation.py:323] From <ipython-input-2-8c515496db61>:2: read_data_sets (from tensorflow.contrib.learn.python.learn.datasets.mnist) is deprecated and will be removed in a future version.\n",
            "Instructions for updating:\n",
            "Please use alternatives such as official/mnist/dataset.py from tensorflow/models.\n",
            "W0703 20:24:28.299706 140348197648256 deprecation.py:323] From /usr/local/lib/python3.6/dist-packages/tensorflow/contrib/learn/python/learn/datasets/mnist.py:260: maybe_download (from tensorflow.contrib.learn.python.learn.datasets.base) is deprecated and will be removed in a future version.\n",
            "Instructions for updating:\n",
            "Please write your own downloading logic.\n",
            "W0703 20:24:28.300915 140348197648256 deprecation.py:323] From /usr/local/lib/python3.6/dist-packages/tensorflow/contrib/learn/python/learn/datasets/base.py:252: _internal_retry.<locals>.wrap.<locals>.wrapped_fn (from tensorflow.contrib.learn.python.learn.datasets.base) is deprecated and will be removed in a future version.\n",
            "Instructions for updating:\n",
            "Please use urllib or similar directly.\n",
            "W0703 20:24:28.406179 140348197648256 deprecation.py:323] From /usr/local/lib/python3.6/dist-packages/tensorflow/contrib/learn/python/learn/datasets/mnist.py:262: extract_images (from tensorflow.contrib.learn.python.learn.datasets.mnist) is deprecated and will be removed in a future version.\n",
            "Instructions for updating:\n",
            "Please use tf.data to implement this functionality.\n"
          ],
          "name": "stderr"
        },
        {
          "output_type": "stream",
          "text": [
            "Successfully downloaded train-images-idx3-ubyte.gz 9912422 bytes.\n",
            "Extracting MNIST_data/train-images-idx3-ubyte.gz\n"
          ],
          "name": "stdout"
        },
        {
          "output_type": "stream",
          "text": [
            "W0703 20:24:28.703421 140348197648256 deprecation.py:323] From /usr/local/lib/python3.6/dist-packages/tensorflow/contrib/learn/python/learn/datasets/mnist.py:267: extract_labels (from tensorflow.contrib.learn.python.learn.datasets.mnist) is deprecated and will be removed in a future version.\n",
            "Instructions for updating:\n",
            "Please use tf.data to implement this functionality.\n"
          ],
          "name": "stderr"
        },
        {
          "output_type": "stream",
          "text": [
            "Successfully downloaded train-labels-idx1-ubyte.gz 28881 bytes.\n",
            "Extracting MNIST_data/train-labels-idx1-ubyte.gz\n",
            "Successfully downloaded t10k-images-idx3-ubyte.gz 1648877 bytes.\n",
            "Extracting MNIST_data/t10k-images-idx3-ubyte.gz\n"
          ],
          "name": "stdout"
        },
        {
          "output_type": "stream",
          "text": [
            "W0703 20:24:28.943489 140348197648256 deprecation.py:323] From /usr/local/lib/python3.6/dist-packages/tensorflow/contrib/learn/python/learn/datasets/mnist.py:290: DataSet.__init__ (from tensorflow.contrib.learn.python.learn.datasets.mnist) is deprecated and will be removed in a future version.\n",
            "Instructions for updating:\n",
            "Please use alternatives such as official/mnist/dataset.py from tensorflow/models.\n"
          ],
          "name": "stderr"
        },
        {
          "output_type": "stream",
          "text": [
            "Successfully downloaded t10k-labels-idx1-ubyte.gz 4542 bytes.\n",
            "Extracting MNIST_data/t10k-labels-idx1-ubyte.gz\n"
          ],
          "name": "stdout"
        }
      ]
    },
    {
      "cell_type": "code",
      "metadata": {
        "id": "AmTLFlgi9L_S",
        "colab_type": "code",
        "outputId": "d2231c39-27ad-49fc-bc48-b54ce74f0a63",
        "colab": {
          "base_uri": "https://localhost:8080/",
          "height": 287
        }
      },
      "source": [
        "img = mnist.train.images[2]\n",
        "plt.imshow(img.reshape((28, 28)), cmap='Greys_r')"
      ],
      "execution_count": 0,
      "outputs": [
        {
          "output_type": "execute_result",
          "data": {
            "text/plain": [
              "<matplotlib.image.AxesImage at 0x7fa5054bae80>"
            ]
          },
          "metadata": {
            "tags": []
          },
          "execution_count": 3
        },
        {
          "output_type": "display_data",
          "data": {
            "image/png": "[encoded data removed]",
            "text/plain": [
              "<Figure size 432x288 with 1 Axes>"
            ]
          },
          "metadata": {
            "tags": []
          }
        }
      ]
    },
    {
      "cell_type": "code",
      "metadata": {
        "id": "L8dFwe0KG--h",
        "colab_type": "code",
        "colab": {}
      },
      "source": [
        ""
      ],
      "execution_count": 0,
      "outputs": []
    },
    {
      "cell_type": "code",
      "metadata": {
        "id": "_Op30SwO9L9a",
        "colab_type": "code",
        "colab": {}
      },
      "source": [
        "inputs_ = tf.placeholder(tf.float32, (None, 28, 28, 1), name='inputs')\n",
        "targets_ = tf.placeholder(tf.float32, (None, 28, 28, 1), name='targets')\n",
        "\n",
        "### Encoder\n",
        "conv1 = tf.layers.conv2d(inputs_, 16, (3,3), padding='same', activation=tf.nn.relu)\n",
        "# Now 28x28x16\n",
        "maxpool1 = tf.layers.max_pooling2d(conv1, (2,2), (2,2), padding='same')\n",
        "# Now 14x14x16\n",
        "conv2 = tf.layers.conv2d(maxpool1, 8, (3,3), padding='same', activation=tf.nn.relu)\n",
        "# Now 14x14x8\n",
        "maxpool2 = tf.layers.max_pooling2d(conv2, (2,2), (2,2), padding='same')\n",
        "# Now 7x7x8\n",
        "conv3 = tf.layers.conv2d(maxpool2, 8, (3,3), padding='same', activation=tf.nn.relu)\n",
        "# Now 7x7x8\n",
        "encoded = tf.layers.max_pooling2d(conv3, (2,2), (2,2), padding='same')\n",
        "# Now 4x4x8\n",
        "\n",
        "\n",
        "### Decoder\n",
        "upsample1 = tf.image.resize_nearest_neighbor(encoded, (7,7))\n",
        "# Now 7x7x8\n",
        "conv4 = tf.layers.conv2d(upsample1, 8, (3,3), padding='same', activation=tf.nn.relu)\n",
        "# Now 7x7x8\n",
        "upsample2 = tf.image.resize_nearest_neighbor(conv4, (14,14))\n",
        "# Now 14x14x8\n",
        "conv5 = tf.layers.conv2d(upsample2, 8, (3,3), padding='same', activation=tf.nn.relu)\n",
        "# Now 14x14x8\n",
        "upsample3 = tf.image.resize_nearest_neighbor(conv5, (28,28))\n",
        "# Now 28x28x8\n",
        "conv6 = tf.layers.conv2d(upsample3, 16, (3,3), padding='same', activation=tf.nn.relu)\n",
        "# Now 28x28x16\n",
        "\n",
        "logits = tf.layers.conv2d(conv6, 1, (3,3), padding='same', activation=None)\n",
        "#Now 28x28x1\n",
        "\n",
        "decoded = tf.nn.sigmoid(logits, name='decoded')\n",
        "\n",
        "#######\n",
        "def decoded_with_temp(T):\n",
        "  return tf.nn.sigmoid(logits/T , name='decoded_with_tem')\n",
        "######\n",
        "\n",
        "loss = tf.nn.sigmoid_cross_entropy_with_logits(labels=targets_, logits=logits)\n",
        "cost = tf.reduce_mean(loss)\n",
        "opt = tf.train.AdamOptimizer(0.001).minimize(cost)"
      ],
      "execution_count": 0,
      "outputs": []
    },
    {
      "cell_type": "code",
      "metadata": {
        "id": "X6kvm45BW3lg",
        "colab_type": "code",
        "colab": {}
      },
      "source": [
        "alpha = 0.5"
      ],
      "execution_count": 0,
      "outputs": []
    },
    {
      "cell_type": "code",
      "metadata": {
        "id": "e7vMGvBrV4pW",
        "colab_type": "code",
        "colab": {}
      },
      "source": [
        "# inputs_ = tf.placeholder(tf.float32, (None, 28, 28, 1), name='inputs')\n",
        "# targets_ = tf.placeholder(tf.float32, (None, 28, 28, 1), name='targets')\n",
        "enc_ = tf.placeholder(tf.float32, (None,4,4,8), name='enc')\n",
        "\n",
        "### Encoder\n",
        "conv1_S = tf.layers.conv2d(inputs_, 16, (3,3), padding='same', activation=tf.nn.relu)\n",
        "# Now 28x28x16\n",
        "maxpool1_S = tf.layers.max_pooling2d(conv1_S, (2,2), (2,2), padding='same')\n",
        "# Now 14x14x16\n",
        "conv2_S = tf.layers.conv2d(maxpool1_S, 8, (3,3), padding='same', activation=tf.nn.relu)\n",
        "# Now 14x14x8\n",
        "maxpool2_S = tf.layers.max_pooling2d(conv2_S, (2,2), (2,2), padding='same')\n",
        "# Now 7x7x8\n",
        "conv3_S = tf.layers.conv2d(maxpool2_S, 8, (3,3), padding='same', activation=tf.nn.relu)\n",
        "# Now 7x7x8\n",
        "encoded_S = tf.layers.max_pooling2d(conv3_S, (2,2), (2,2), padding='same')\n",
        "# Now 4x4x8\n",
        "\n",
        "\n",
        "### Decoder\n",
        "upsample1_S = tf.image.resize_nearest_neighbor(encoded_S, (7,7))\n",
        "# Now 7x7x8\n",
        "conv4_S = tf.layers.conv2d(upsample1_S, 8, (3,3), padding='same', activation=tf.nn.relu)\n",
        "# Now 7x7x8\n",
        "upsample2_S = tf.image.resize_nearest_neighbor(conv4_S, (14,14))\n",
        "# Now 14x14x8\n",
        "conv5_S = tf.layers.conv2d(upsample2_S, 8, (3,3), padding='same', activation=tf.nn.relu)\n",
        "# Now 14x14x8\n",
        "upsample3_S = tf.image.resize_nearest_neighbor(conv5_S, (28,28))\n",
        "# Now 28x28x8\n",
        "conv6_S = tf.layers.conv2d(upsample3_S, 16, (3,3), padding='same', activation=tf.nn.relu)\n",
        "# Now 28x28x16\n",
        "\n",
        "logits_S = tf.layers.conv2d(conv6_S, 1, (3,3), padding='same', activation=None)\n",
        "#Now 28x28x1\n",
        "\n",
        "decoded_S = tf.nn.sigmoid(logits_S, name='decoded')\n",
        "\n",
        "#######\n",
        "def decoded_with_temp_S(T):\n",
        "  return tf.nn.sigmoid(logits_S/T , name='decoded_with_temp')\n",
        "######\n",
        "\n",
        "loss1 = tf.nn.sigmoid_cross_entropy_with_logits(labels=targets_, logits=logits_S)\n",
        "loss2 = tf.losses.mean_squared_error(labels=enc_, predictions=encoded_S)\n",
        "loss_S = loss1 + alpha*loss2\n",
        "cost_S = tf.reduce_mean(loss_S)\n",
        "opt_S = tf.train.AdamOptimizer(0.001).minimize(cost_S)\n"
      ],
      "execution_count": 0,
      "outputs": []
    },
    {
      "cell_type": "code",
      "metadata": {
        "id": "R_V7TNVTUV2v",
        "colab_type": "code",
        "outputId": "cf2d4c20-4e4d-442d-cf27-329ebfe21f3b",
        "colab": {
          "base_uri": "https://localhost:8080/",
          "height": 231
        }
      },
      "source": [
        "\"\"\"\n",
        "Compressed autoencoder\n",
        "\"\"\"\n",
        "enc_ = tf.placeholder(tf.float32, (None,4,4,8), name='enc')\n",
        "### Encoder\n",
        "#input 28x28x1\n",
        "convs_1 = tf.layers.conv2d(inputs_, 8, (5,5), strides=3, padding='valid', activation=tf.nn.relu)\n",
        "#shape 8x8x8\n",
        "maxpools_1 = tf.layers.max_pooling2d(convs_1, (2,2), (2,2), padding='same')\n",
        "#shape 4x4x8\n",
        "\n",
        "\n",
        "### Decoder\n",
        "upsamples_1 = tf.image.resize_nearest_neighbor(maxpools_1, (8,8))\n",
        "#shape 8x8x8\n",
        "deconvs_1 = tf.layers.conv2d(upsamples_1, 8, (3,3), padding='same', activation=tf.nn.relu)\n",
        "#shape 8x8x8\n",
        "upsamples_2 = tf.image.resize_nearest_neighbor(deconvs_1, (28,28))\n",
        "#shape 28x28x8\n",
        "logits_S = tf.layers.conv2d(upsamples_2, 1, (3,3), padding='same', activation=None)\n",
        "# logits_S.get_shape()\n",
        "\n",
        "\n",
        "decoded_S = tf.nn.sigmoid(logits_S)\n",
        "\n",
        "\n",
        "loss1 = tf.nn.sigmoid_cross_entropy_with_logits(labels=targets_, logits=logits)\n",
        "loss2 = tf.losses.mean_squared_error(labels=enc_, predictions=maxpools_1)\n",
        "loss_S = loss1 + alpha*loss2\n",
        "cost_S = tf.reduce_mean(loss_S)\n",
        "opt_S = tf.train.AdamOptimizer(0.001).minimize(cost_S)\n",
        "\n"
      ],
      "execution_count": 0,
      "outputs": [
        {
          "output_type": "error",
          "ename": "NameError",
          "evalue": "ignored",
          "traceback": [
            "\u001b[0;31m---------------------------------------------------------------------------\u001b[0m",
            "\u001b[0;31mNameError\u001b[0m                                 Traceback (most recent call last)",
            "\u001b[0;32m<ipython-input-8-d7f5e47a5f5f>\u001b[0m in \u001b[0;36m<module>\u001b[0;34m()\u001b[0m\n\u001b[1;32m     25\u001b[0m \u001b[0;34m\u001b[0m\u001b[0m\n\u001b[1;32m     26\u001b[0m \u001b[0;34m\u001b[0m\u001b[0m\n\u001b[0;32m---> 27\u001b[0;31m \u001b[0mloss1\u001b[0m \u001b[0;34m=\u001b[0m \u001b[0mtf\u001b[0m\u001b[0;34m.\u001b[0m\u001b[0mnn\u001b[0m\u001b[0;34m.\u001b[0m\u001b[0msigmoid_cross_entropy_with_logits\u001b[0m\u001b[0;34m(\u001b[0m\u001b[0mlabels\u001b[0m\u001b[0;34m=\u001b[0m\u001b[0mtargets_\u001b[0m\u001b[0;34m,\u001b[0m \u001b[0mlogits\u001b[0m\u001b[0;34m=\u001b[0m\u001b[0mlogits\u001b[0m\u001b[0;34m)\u001b[0m\u001b[0;34m\u001b[0m\u001b[0;34m\u001b[0m\u001b[0m\n\u001b[0m\u001b[1;32m     28\u001b[0m \u001b[0;31m# loss2 = tf.losses.mean_squared_error(labels=enc_, predictions=maxpools_1)\u001b[0m\u001b[0;34m\u001b[0m\u001b[0;34m\u001b[0m\u001b[0;34m\u001b[0m\u001b[0m\n\u001b[1;32m     29\u001b[0m \u001b[0mloss_S\u001b[0m \u001b[0;34m=\u001b[0m \u001b[0mloss1\u001b[0m \u001b[0;31m#+ alpha*loss2\u001b[0m\u001b[0;34m\u001b[0m\u001b[0;34m\u001b[0m\u001b[0m\n",
            "\u001b[0;31mNameError\u001b[0m: name 'logits' is not defined"
          ]
        }
      ]
    },
    {
      "cell_type": "code",
      "metadata": {
        "id": "11pk0Tf29i2P",
        "colab_type": "code",
        "colab": {}
      },
      "source": [
        ""
      ],
      "execution_count": 0,
      "outputs": []
    },
    {
      "cell_type": "code",
      "metadata": {
        "id": "gTlnno9oUV1W",
        "colab_type": "code",
        "colab": {}
      },
      "source": [
        ""
      ],
      "execution_count": 0,
      "outputs": []
    },
    {
      "cell_type": "code",
      "metadata": {
        "id": "H5JtOqr69L7D",
        "colab_type": "code",
        "colab": {}
      },
      "source": [
        "sess = tf.Session()\n",
        "sess.run(tf.global_variables_initializer())"
      ],
      "execution_count": 0,
      "outputs": []
    },
    {
      "cell_type": "code",
      "metadata": {
        "id": "TX2crZ_hYKGV",
        "colab_type": "code",
        "outputId": "61bf2e76-1a7f-46db-cc57-3c339eee5f38",
        "colab": {
          "base_uri": "https://localhost:8080/",
          "height": 35
        }
      },
      "source": [
        "logits.get_shape()"
      ],
      "execution_count": 0,
      "outputs": [
        {
          "output_type": "execute_result",
          "data": {
            "text/plain": [
              "TensorShape([Dimension(None), Dimension(28), Dimension(28), Dimension(1)])"
            ]
          },
          "metadata": {
            "tags": []
          },
          "execution_count": 13
        }
      ]
    },
    {
      "cell_type": "code",
      "metadata": {
        "id": "C9hryaUDXu05",
        "colab_type": "code",
        "outputId": "5df984f7-a198-4cf2-c436-b837bb87e50d",
        "colab": {
          "base_uri": "https://localhost:8080/",
          "height": 1000
        }
      },
      "source": [
        "epochs = 10\n",
        "batch_size = 64\n",
        "for e in range(epochs):\n",
        "    for ii in range(mnist.train.num_examples//batch_size):\n",
        "        batch = mnist.train.next_batch(batch_size)\n",
        "        imgs = batch[0].reshape((-1, 28, 28, 1))\n",
        "        batch_cost, _ = sess.run([cost, opt], feed_dict={inputs_: imgs,\n",
        "                                                         targets_: imgs})\n",
        "        if ii%100==0:\n",
        "          print(\"Epoch: {}/{}...\".format(ii, e),\n",
        "                \"Training loss: {:.4f}\".format(batch_cost))"
      ],
      "execution_count": 0,
      "outputs": [
        {
          "output_type": "stream",
          "text": [
            "Epoch: 0/0... Training loss: 0.6993\n",
            "Epoch: 100/0... Training loss: 0.2006\n",
            "Epoch: 200/0... Training loss: 0.1716\n",
            "Epoch: 300/0... Training loss: 0.1622\n",
            "Epoch: 400/0... Training loss: 0.1460\n",
            "Epoch: 500/0... Training loss: 0.1349\n",
            "Epoch: 600/0... Training loss: 0.1318\n",
            "Epoch: 700/0... Training loss: 0.1261\n",
            "Epoch: 800/0... Training loss: 0.1351\n",
            "Epoch: 900/0... Training loss: 0.1262\n",
            "Epoch: 0/1... Training loss: 0.1304\n",
            "Epoch: 100/1... Training loss: 0.1232\n",
            "Epoch: 200/1... Training loss: 0.1170\n",
            "Epoch: 300/1... Training loss: 0.1163\n",
            "Epoch: 400/1... Training loss: 0.1149\n",
            "Epoch: 500/1... Training loss: 0.1243\n",
            "Epoch: 600/1... Training loss: 0.1211\n",
            "Epoch: 700/1... Training loss: 0.1158\n",
            "Epoch: 800/1... Training loss: 0.1147\n",
            "Epoch: 900/1... Training loss: 0.1098\n",
            "Epoch: 0/2... Training loss: 0.1062\n",
            "Epoch: 100/2... Training loss: 0.1081\n",
            "Epoch: 200/2... Training loss: 0.1139\n",
            "Epoch: 300/2... Training loss: 0.1172\n",
            "Epoch: 400/2... Training loss: 0.1178\n",
            "Epoch: 500/2... Training loss: 0.1100\n",
            "Epoch: 600/2... Training loss: 0.1145\n",
            "Epoch: 700/2... Training loss: 0.1053\n",
            "Epoch: 800/2... Training loss: 0.1026\n",
            "Epoch: 900/2... Training loss: 0.1106\n",
            "Epoch: 0/3... Training loss: 0.1080\n",
            "Epoch: 100/3... Training loss: 0.1105\n",
            "Epoch: 200/3... Training loss: 0.1076\n",
            "Epoch: 300/3... Training loss: 0.1086\n",
            "Epoch: 400/3... Training loss: 0.1009\n",
            "Epoch: 500/3... Training loss: 0.1060\n",
            "Epoch: 600/3... Training loss: 0.1024\n",
            "Epoch: 700/3... Training loss: 0.1060\n",
            "Epoch: 800/3... Training loss: 0.1060\n",
            "Epoch: 900/3... Training loss: 0.1066\n",
            "Epoch: 0/4... Training loss: 0.1070\n",
            "Epoch: 100/4... Training loss: 0.1014\n",
            "Epoch: 200/4... Training loss: 0.1068\n",
            "Epoch: 300/4... Training loss: 0.1040\n",
            "Epoch: 400/4... Training loss: 0.1044\n",
            "Epoch: 500/4... Training loss: 0.1073\n",
            "Epoch: 600/4... Training loss: 0.1025\n",
            "Epoch: 700/4... Training loss: 0.0961\n",
            "Epoch: 800/4... Training loss: 0.0989\n",
            "Epoch: 900/4... Training loss: 0.1040\n",
            "Epoch: 0/5... Training loss: 0.1018\n",
            "Epoch: 100/5... Training loss: 0.1046\n",
            "Epoch: 200/5... Training loss: 0.0961\n",
            "Epoch: 300/5... Training loss: 0.1113\n",
            "Epoch: 400/5... Training loss: 0.1078\n",
            "Epoch: 500/5... Training loss: 0.0995\n",
            "Epoch: 600/5... Training loss: 0.1073\n",
            "Epoch: 700/5... Training loss: 0.0992\n",
            "Epoch: 800/5... Training loss: 0.1051\n",
            "Epoch: 900/5... Training loss: 0.0959\n",
            "Epoch: 0/6... Training loss: 0.0967\n",
            "Epoch: 100/6... Training loss: 0.0975\n",
            "Epoch: 200/6... Training loss: 0.1011\n",
            "Epoch: 300/6... Training loss: 0.0975\n",
            "Epoch: 400/6... Training loss: 0.1013\n",
            "Epoch: 500/6... Training loss: 0.1039\n",
            "Epoch: 600/6... Training loss: 0.0985\n",
            "Epoch: 700/6... Training loss: 0.0976\n",
            "Epoch: 800/6... Training loss: 0.1052\n",
            "Epoch: 900/6... Training loss: 0.1032\n",
            "Epoch: 0/7... Training loss: 0.0992\n",
            "Epoch: 100/7... Training loss: 0.1012\n",
            "Epoch: 200/7... Training loss: 0.0981\n",
            "Epoch: 300/7... Training loss: 0.1002\n",
            "Epoch: 400/7... Training loss: 0.1016\n",
            "Epoch: 500/7... Training loss: 0.0991\n",
            "Epoch: 600/7... Training loss: 0.1001\n",
            "Epoch: 700/7... Training loss: 0.0976\n",
            "Epoch: 800/7... Training loss: 0.1020\n",
            "Epoch: 900/7... Training loss: 0.0909\n",
            "Epoch: 0/8... Training loss: 0.0954\n",
            "Epoch: 100/8... Training loss: 0.1050\n",
            "Epoch: 200/8... Training loss: 0.0959\n",
            "Epoch: 300/8... Training loss: 0.1053\n",
            "Epoch: 400/8... Training loss: 0.0978\n",
            "Epoch: 500/8... Training loss: 0.0934\n",
            "Epoch: 600/8... Training loss: 0.0978\n",
            "Epoch: 700/8... Training loss: 0.0951\n",
            "Epoch: 800/8... Training loss: 0.0972\n",
            "Epoch: 900/8... Training loss: 0.1033\n",
            "Epoch: 0/9... Training loss: 0.0928\n",
            "Epoch: 100/9... Training loss: 0.0961\n",
            "Epoch: 200/9... Training loss: 0.0997\n",
            "Epoch: 300/9... Training loss: 0.0947\n",
            "Epoch: 400/9... Training loss: 0.0959\n",
            "Epoch: 500/9... Training loss: 0.0896\n",
            "Epoch: 600/9... Training loss: 0.0976\n",
            "Epoch: 700/9... Training loss: 0.0958\n",
            "Epoch: 800/9... Training loss: 0.0951\n",
            "Epoch: 900/9... Training loss: 0.1006\n"
          ],
          "name": "stdout"
        }
      ]
    },
    {
      "cell_type": "code",
      "metadata": {
        "id": "yqaWU5hnaWc6",
        "colab_type": "code",
        "outputId": "3e392d97-f104-48db-e647-030c9d1f4f5b",
        "colab": {
          "base_uri": "https://localhost:8080/",
          "height": 317
        }
      },
      "source": [
        "num = 10\n",
        "\n",
        "\n",
        "fig, axes = plt.subplots(nrows=3, ncols=num, sharex=True, sharey=True, figsize=(2*num,4))\n",
        "\n",
        "in_imgs = mnist.test.images[:num]\n",
        "\n",
        "noise_factor = 0.001\n",
        "noisy_imgs = in_imgs + noise_factor * np.random.randn(*in_imgs.shape)\n",
        "noisy_imgs = np.clip(noisy_imgs, 0., 1.)\n",
        "decoded_T = decoded_with_temp(0.6)\n",
        "reconstructed = sess.run(decoded, feed_dict={inputs_: noisy_imgs.reshape((num, 28, 28, 1))})\n",
        "reconstructed_T = sess.run(decoded_T, feed_dict={inputs_: noisy_imgs.reshape((num, 28, 28, 1))})\n",
        "for images, row in zip([noisy_imgs, reconstructed, reconstructed_T], axes):\n",
        "    for img, ax in zip(images, row):\n",
        "        ax.imshow(img.reshape((28, 28)), cmap='Greys_r')\n",
        "        ax.get_xaxis().set_visible(False)\n",
        "        ax.get_yaxis().set_visible(False)\n",
        "        ax.get_yaxis().set_visible(False)\n",
        "\n",
        "fig.tight_layout(pad=0.1)"
      ],
      "execution_count": 0,
      "outputs": [
        {
          "output_type": "display_data",
          "data": {
            "image/png": "[encoded data removed]",
            "text/plain": [
              "<Figure size 1440x288 with 30 Axes>"
            ]
          },
          "metadata": {
            "tags": []
          }
        }
      ]
    },
    {
      "cell_type": "code",
      "metadata": {
        "id": "BmZduFD8IU_K",
        "colab_type": "code",
        "colab": {}
      },
      "source": [
        "\n"
      ],
      "execution_count": 0,
      "outputs": []
    },
    {
      "cell_type": "code",
      "metadata": {
        "id": "7F61Vkj1IU88",
        "colab_type": "code",
        "colab": {}
      },
      "source": [
        ""
      ],
      "execution_count": 0,
      "outputs": []
    },
    {
      "cell_type": "code",
      "metadata": {
        "id": "Lb6blPotIU4n",
        "colab_type": "code",
        "outputId": "777e1046-2851-4735-d959-4cc674862040",
        "colab": {
          "base_uri": "https://localhost:8080/",
          "height": 1000
        }
      },
      "source": [
        "epochs = 10\n",
        "batch_size = 64\n",
        "alpha = 2\n",
        "\n",
        "for e in range(epochs):\n",
        "    for ii in range(mnist.train.num_examples//batch_size):\n",
        "        batch = mnist.train.next_batch(batch_size)\n",
        "        imgs = batch[0].reshape((-1, 28, 28, 1))\n",
        "        enc = sess.run([encoded], feed_dict={inputs_:imgs})\n",
        "#         print(np.array(enc[0]).shape)\n",
        "#         break\n",
        "#     break\n",
        "        batch_cost, _ = sess.run([cost_S, opt_S], feed_dict={inputs_: imgs,\n",
        "                                                         targets_: imgs,\n",
        "                                                             enc_:np.array(enc[0])})\n",
        "        if ii%100==0:                                                 \n",
        "          print(\"Epoch: {}/{}...\".format(ii, e),\n",
        "                \"Training loss: {:.4f}\".format(batch_cost))"
      ],
      "execution_count": 0,
      "outputs": [
        {
          "output_type": "stream",
          "text": [
            "Epoch: 0/0... Training loss: 2.5383\n",
            "Epoch: 100/0... Training loss: 0.4246\n",
            "Epoch: 200/0... Training loss: 0.3480\n",
            "Epoch: 300/0... Training loss: 0.2809\n",
            "Epoch: 400/0... Training loss: 0.2276\n",
            "Epoch: 500/0... Training loss: 0.2064\n",
            "Epoch: 600/0... Training loss: 0.1922\n",
            "Epoch: 700/0... Training loss: 0.1802\n",
            "Epoch: 800/0... Training loss: 0.1626\n",
            "Epoch: 900/0... Training loss: 0.1691\n",
            "Epoch: 0/1... Training loss: 0.1594\n",
            "Epoch: 100/1... Training loss: 0.1590\n",
            "Epoch: 200/1... Training loss: 0.1507\n",
            "Epoch: 300/1... Training loss: 0.1409\n",
            "Epoch: 400/1... Training loss: 0.1526\n",
            "Epoch: 500/1... Training loss: 0.1445\n",
            "Epoch: 600/1... Training loss: 0.1491\n",
            "Epoch: 700/1... Training loss: 0.1471\n",
            "Epoch: 800/1... Training loss: 0.1404\n",
            "Epoch: 900/1... Training loss: 0.1351\n",
            "Epoch: 0/2... Training loss: 0.1337\n",
            "Epoch: 100/2... Training loss: 0.1316\n",
            "Epoch: 200/2... Training loss: 0.1235\n",
            "Epoch: 300/2... Training loss: 0.1301\n",
            "Epoch: 400/2... Training loss: 0.1192\n",
            "Epoch: 500/2... Training loss: 0.1208\n",
            "Epoch: 600/2... Training loss: 0.1253\n",
            "Epoch: 700/2... Training loss: 0.1278\n",
            "Epoch: 800/2... Training loss: 0.1206\n",
            "Epoch: 900/2... Training loss: 0.1197\n",
            "Epoch: 0/3... Training loss: 0.1187\n",
            "Epoch: 100/3... Training loss: 0.1249\n",
            "Epoch: 200/3... Training loss: 0.1130\n",
            "Epoch: 300/3... Training loss: 0.1182\n",
            "Epoch: 400/3... Training loss: 0.1132\n",
            "Epoch: 500/3... Training loss: 0.1229\n",
            "Epoch: 600/3... Training loss: 0.1119\n",
            "Epoch: 700/3... Training loss: 0.1075\n",
            "Epoch: 800/3... Training loss: 0.1172\n",
            "Epoch: 900/3... Training loss: 0.1119\n",
            "Epoch: 0/4... Training loss: 0.1120\n",
            "Epoch: 100/4... Training loss: 0.1094\n",
            "Epoch: 200/4... Training loss: 0.1180\n",
            "Epoch: 300/4... Training loss: 0.1177\n",
            "Epoch: 400/4... Training loss: 0.1140\n",
            "Epoch: 500/4... Training loss: 0.1136\n",
            "Epoch: 600/4... Training loss: 0.1151\n",
            "Epoch: 700/4... Training loss: 0.1152\n",
            "Epoch: 800/4... Training loss: 0.1044\n",
            "Epoch: 900/4... Training loss: 0.1116\n",
            "Epoch: 0/5... Training loss: 0.1136\n",
            "Epoch: 100/5... Training loss: 0.1113\n",
            "Epoch: 200/5... Training loss: 0.1075\n",
            "Epoch: 300/5... Training loss: 0.1109\n",
            "Epoch: 400/5... Training loss: 0.1132\n",
            "Epoch: 500/5... Training loss: 0.1120\n",
            "Epoch: 600/5... Training loss: 0.0955\n",
            "Epoch: 700/5... Training loss: 0.1107\n",
            "Epoch: 800/5... Training loss: 0.1137\n",
            "Epoch: 900/5... Training loss: 0.1055\n",
            "Epoch: 0/6... Training loss: 0.1030\n",
            "Epoch: 100/6... Training loss: 0.1097\n",
            "Epoch: 200/6... Training loss: 0.1198\n",
            "Epoch: 300/6... Training loss: 0.1020\n",
            "Epoch: 400/6... Training loss: 0.1066\n",
            "Epoch: 500/6... Training loss: 0.1077\n",
            "Epoch: 600/6... Training loss: 0.1038\n",
            "Epoch: 700/6... Training loss: 0.1128\n",
            "Epoch: 800/6... Training loss: 0.1140\n",
            "Epoch: 900/6... Training loss: 0.1095\n",
            "Epoch: 0/7... Training loss: 0.1040\n",
            "Epoch: 100/7... Training loss: 0.1017\n",
            "Epoch: 200/7... Training loss: 0.1090\n",
            "Epoch: 300/7... Training loss: 0.1034\n",
            "Epoch: 400/7... Training loss: 0.1133\n",
            "Epoch: 500/7... Training loss: 0.1034\n",
            "Epoch: 600/7... Training loss: 0.1066\n",
            "Epoch: 700/7... Training loss: 0.1072\n",
            "Epoch: 800/7... Training loss: 0.1005\n",
            "Epoch: 900/7... Training loss: 0.1028\n",
            "Epoch: 0/8... Training loss: 0.1013\n",
            "Epoch: 100/8... Training loss: 0.1075\n",
            "Epoch: 200/8... Training loss: 0.1022\n",
            "Epoch: 300/8... Training loss: 0.0999\n",
            "Epoch: 400/8... Training loss: 0.1012\n",
            "Epoch: 500/8... Training loss: 0.1044\n",
            "Epoch: 600/8... Training loss: 0.1046\n",
            "Epoch: 700/8... Training loss: 0.1024\n",
            "Epoch: 800/8... Training loss: 0.1012\n",
            "Epoch: 900/8... Training loss: 0.1043\n",
            "Epoch: 0/9... Training loss: 0.1046\n",
            "Epoch: 100/9... Training loss: 0.1049\n",
            "Epoch: 200/9... Training loss: 0.1056\n",
            "Epoch: 300/9... Training loss: 0.1036\n",
            "Epoch: 400/9... Training loss: 0.1085\n",
            "Epoch: 500/9... Training loss: 0.0980\n",
            "Epoch: 600/9... Training loss: 0.1085\n",
            "Epoch: 700/9... Training loss: 0.1029\n",
            "Epoch: 800/9... Training loss: 0.1004\n",
            "Epoch: 900/9... Training loss: 0.1013\n"
          ],
          "name": "stdout"
        }
      ]
    },
    {
      "cell_type": "code",
      "metadata": {
        "id": "A3gp8h2CIU2Y",
        "colab_type": "code",
        "outputId": "4e11440b-69e8-4670-bde0-18bf8a8a99c8",
        "colab": {
          "base_uri": "https://localhost:8080/",
          "height": 337
        }
      },
      "source": [
        "num = 30\n",
        "\n",
        "\n",
        "fig, axes = plt.subplots(nrows=3, ncols=num, sharex=True, sharey=True, figsize=(2*num,4))\n",
        "\n",
        "in_imgs = mnist.test.images[:num]\n",
        "\n",
        "noise_factor = 0.001\n",
        "noisy_imgs = in_imgs + noise_factor * np.random.randn(*in_imgs.shape)\n",
        "noisy_imgs = np.clip(noisy_imgs, 0., 1.)\n",
        "decoded_T = decoded_with_temp(1)\n",
        "reconstructed = sess.run(decoded_S, feed_dict={inputs_: noisy_imgs.reshape((num, 28, 28, 1))})\n",
        "reconstructed_T = sess.run(decoded_T, feed_dict={inputs_: noisy_imgs.reshape((num, 28, 28, 1))})\n",
        "for images, row in zip([noisy_imgs, reconstructed, reconstructed_T], axes):\n",
        "    for img, ax in zip(images, row):\n",
        "        ax.imshow(img.reshape((28, 28)), cmap='Greys_r')\n",
        "        ax.get_xaxis().set_visible(False)\n",
        "        ax.get_yaxis().set_visible(False)\n",
        "        ax.get_yaxis().set_visible(False)\n",
        "\n",
        "fig.tight_layout(pad=0.1)"
      ],
      "execution_count": 0,
      "outputs": [
        {
          "output_type": "display_data",
          "data": {
            "image/png": "[encoded data removed]",
            "text/plain": [
              "<Figure size 4320x288 with 90 Axes>"
            ]
          },
          "metadata": {
            "tags": []
          }
        }
      ]
    },
    {
      "cell_type": "code",
      "metadata": {
        "id": "Q04Y_rKaIUz9",
        "colab_type": "code",
        "colab": {}
      },
      "source": [
        ""
      ],
      "execution_count": 0,
      "outputs": []
    },
    {
      "cell_type": "code",
      "metadata": {
        "id": "dAeYKszuIUxu",
        "colab_type": "code",
        "colab": {}
      },
      "source": [
        ""
      ],
      "execution_count": 0,
      "outputs": []
    },
    {
      "cell_type": "code",
      "metadata": {
        "id": "Jj1wOXUjIUvL",
        "colab_type": "code",
        "colab": {}
      },
      "source": [
        ""
      ],
      "execution_count": 0,
      "outputs": []
    },
    {
      "cell_type": "code",
      "metadata": {
        "id": "-UWrkyK1IUsp",
        "colab_type": "code",
        "colab": {}
      },
      "source": [
        ""
      ],
      "execution_count": 0,
      "outputs": []
    },
    {
      "cell_type": "code",
      "metadata": {
        "id": "UK2HWfZHaWb4",
        "colab_type": "code",
        "colab": {}
      },
      "source": [
        "\"\"\"\n",
        "Fashion MNIST\n",
        "\"\"\""
      ],
      "execution_count": 0,
      "outputs": []
    },
    {
      "cell_type": "code",
      "metadata": {
        "id": "-w4GGfQ9aWXd",
        "colab_type": "code",
        "colab": {}
      },
      "source": [
        "(train_images, train_labels), (test_images, test_labels) = tf.keras.datasets.fashion_mnist.load_data()"
      ],
      "execution_count": 0,
      "outputs": []
    },
    {
      "cell_type": "code",
      "metadata": {
        "id": "ZM437WFK8J5s",
        "colab_type": "code",
        "outputId": "f6881a98-a13f-4e70-990d-791b62b34579",
        "colab": {
          "base_uri": "https://localhost:8080/",
          "height": 34
        }
      },
      "source": [
        "len(train_images)"
      ],
      "execution_count": 0,
      "outputs": [
        {
          "output_type": "execute_result",
          "data": {
            "text/plain": [
              "60000"
            ]
          },
          "metadata": {
            "tags": []
          },
          "execution_count": 5
        }
      ]
    },
    {
      "cell_type": "code",
      "metadata": {
        "id": "sAn0CbeAaWUt",
        "colab_type": "code",
        "outputId": "691d0493-2784-4c07-8785-e1d376ffb798",
        "colab": {
          "base_uri": "https://localhost:8080/",
          "height": 286
        }
      },
      "source": [
        "i = 0\n",
        "plt.imshow(train_images[i].reshape((28,28)), cmap='Greys_r')"
      ],
      "execution_count": 0,
      "outputs": [
        {
          "output_type": "execute_result",
          "data": {
            "text/plain": [
              "<matplotlib.image.AxesImage at 0x7f82f71bc668>"
            ]
          },
          "metadata": {
            "tags": []
          },
          "execution_count": 6
        },
        {
          "output_type": "display_data",
          "data": {
            "image/png": "[encoded data removed]",
            "text/plain": [
              "<Figure size 432x288 with 1 Axes>"
            ]
          },
          "metadata": {
            "tags": []
          }
        }
      ]
    },
    {
      "cell_type": "code",
      "metadata": {
        "id": "ofd7Kg2r8oi5",
        "colab_type": "code",
        "outputId": "036527fa-d28b-4361-9ec1-65a3428305d7",
        "colab": {
          "base_uri": "https://localhost:8080/",
          "height": 34
        }
      },
      "source": [
        "# batch = train_images[i*batch_size : (i+1)*batch_size]\n",
        "# print(batch.shape)\n",
        "train_images = np.expand_dims(train_images, axis=-1)\n",
        "print(train_images.shape)"
      ],
      "execution_count": 0,
      "outputs": [
        {
          "output_type": "stream",
          "text": [
            "(60000, 28, 28, 1)\n"
          ],
          "name": "stdout"
        }
      ]
    },
    {
      "cell_type": "code",
      "metadata": {
        "id": "kL5yqiNhaWSV",
        "colab_type": "code",
        "colab": {}
      },
      "source": [
        "inputs_ = tf.placeholder(tf.float32, (None, 28, 28,1), name='inputs')\n",
        "targets_ = tf.placeholder(tf.float32, (None, 28, 28,1), name='targets')\n",
        "\n",
        "### Encoder\n",
        "conv1 = tf.layers.conv2d(inputs_, 16, (3,3), padding='same', activation=tf.nn.relu)\n",
        "# Now 28x28x16\n",
        "maxpool1 = tf.layers.max_pooling2d(conv1, (2,2), (2,2), padding='same')\n",
        "# Now 14x14x16\n",
        "conv2 = tf.layers.conv2d(maxpool1, 8, (3,3), padding='same', activation=tf.nn.relu)\n",
        "# Now 14x14x8\n",
        "maxpool2 = tf.layers.max_pooling2d(conv2, (2,2), (2,2), padding='same')\n",
        "# Now 7x7x8\n",
        "conv3 = tf.layers.conv2d(maxpool2, 8, (3,3), padding='same', activation=tf.nn.relu)\n",
        "# Now 7x7x8\n",
        "encoded = tf.layers.max_pooling2d(conv3, (2,2), (2,2), padding='same')\n",
        "# Now 4x4x8\n",
        "\n",
        "\n",
        "### Decoder\n",
        "upsample1 = tf.image.resize_nearest_neighbor(encoded, (7,7))\n",
        "# Now 7x7x8\n",
        "conv4 = tf.layers.conv2d(upsample1, 8, (3,3), padding='same', activation=tf.nn.relu)\n",
        "# Now 7x7x8\n",
        "upsample2 = tf.image.resize_nearest_neighbor(conv4, (14,14))\n",
        "# Now 14x14x8\n",
        "conv5 = tf.layers.conv2d(upsample2, 8, (3,3), padding='same', activation=tf.nn.relu)\n",
        "# Now 14x14x8\n",
        "upsample3 = tf.image.resize_nearest_neighbor(conv5, (28,28))\n",
        "# Now 28x28x8\n",
        "conv6 = tf.layers.conv2d(upsample3, 16, (3,3), padding='same', activation=tf.nn.relu)\n",
        "# Now 28x28x16\n",
        "\n",
        "logits = tf.layers.conv2d(conv6, 1, (3,3), padding='same', activation=None)\n",
        "#Now 28x28x1\n",
        "\n",
        "decoded = tf.nn.sigmoid(logits, name='decoded')\n",
        "\n",
        "#######\n",
        "def decoded_with_temp(T):\n",
        "  return tf.nn.sigmoid(logits/T , name='decoded_with_tem')\n",
        "######\n",
        "\n",
        "loss = tf.nn.sigmoid_cross_entropy_with_logits(labels=targets_, logits=logits)\n",
        "cost = tf.reduce_mean(loss)\n",
        "opt = tf.train.AdamOptimizer(0.0001).minimize(cost)"
      ],
      "execution_count": 0,
      "outputs": []
    },
    {
      "cell_type": "code",
      "metadata": {
        "id": "a6ZGZnE-aWPx",
        "colab_type": "code",
        "colab": {}
      },
      "source": [
        "sess = tf.Session()\n",
        "sess.run(tf.global_variables_initializer())"
      ],
      "execution_count": 0,
      "outputs": []
    },
    {
      "cell_type": "code",
      "metadata": {
        "id": "0dYJWJ4saWM-",
        "colab_type": "code",
        "outputId": "3e648209-2152-4c49-af62-7ed94084365b",
        "colab": {
          "base_uri": "https://localhost:8080/",
          "height": 231
        }
      },
      "source": [
        "epochs = 10\n",
        "batch_size = 64\n",
        "for e in range(epochs):\n",
        "    i =0\n",
        "    for ii in range(len(train_images)//batch_size):\n",
        "        batch = train_images[i*batch_size : (i+1)*batch_size]\n",
        "        i = i+1\n",
        "#         imgs = np.expand_dims(batch, axis=-1)\n",
        "        batch_cost, _ = sess.run([cost, opt], feed_dict={inputs_: batch,\n",
        "                                                         targets_: batch})\n",
        "        if ii%100==0:\n",
        "          print(\"Epoch: {}/{}...\".format(ii, e),\n",
        "                \"Training loss: {:.4f}\".format(batch_cost))"
      ],
      "execution_count": 0,
      "outputs": [
        {
          "output_type": "error",
          "ename": "NameError",
          "evalue": "ignored",
          "traceback": [
            "\u001b[0;31m---------------------------------------------------------------------------\u001b[0m",
            "\u001b[0;31mNameError\u001b[0m                                 Traceback (most recent call last)",
            "\u001b[0;32m<ipython-input-11-b08d582e12fb>\u001b[0m in \u001b[0;36m<module>\u001b[0;34m()\u001b[0m\n\u001b[1;32m      3\u001b[0m \u001b[0;32mfor\u001b[0m \u001b[0me\u001b[0m \u001b[0;32min\u001b[0m \u001b[0mrange\u001b[0m\u001b[0;34m(\u001b[0m\u001b[0mepochs\u001b[0m\u001b[0;34m)\u001b[0m\u001b[0;34m:\u001b[0m\u001b[0;34m\u001b[0m\u001b[0;34m\u001b[0m\u001b[0m\n\u001b[1;32m      4\u001b[0m     \u001b[0mi\u001b[0m \u001b[0;34m=\u001b[0m\u001b[0;36m0\u001b[0m\u001b[0;34m\u001b[0m\u001b[0;34m\u001b[0m\u001b[0m\n\u001b[0;32m----> 5\u001b[0;31m     \u001b[0;32mfor\u001b[0m \u001b[0mii\u001b[0m \u001b[0;32min\u001b[0m \u001b[0mrange\u001b[0m\u001b[0;34m(\u001b[0m\u001b[0mlen\u001b[0m\u001b[0;34m(\u001b[0m\u001b[0mtrain_images\u001b[0m\u001b[0;34m)\u001b[0m\u001b[0;34m//\u001b[0m\u001b[0mbatch_size\u001b[0m\u001b[0;34m)\u001b[0m\u001b[0;34m:\u001b[0m\u001b[0;34m\u001b[0m\u001b[0;34m\u001b[0m\u001b[0m\n\u001b[0m\u001b[1;32m      6\u001b[0m         \u001b[0mbatch\u001b[0m \u001b[0;34m=\u001b[0m \u001b[0mtrain_images\u001b[0m\u001b[0;34m[\u001b[0m\u001b[0mi\u001b[0m\u001b[0;34m*\u001b[0m\u001b[0mbatch_size\u001b[0m \u001b[0;34m:\u001b[0m \u001b[0;34m(\u001b[0m\u001b[0mi\u001b[0m\u001b[0;34m+\u001b[0m\u001b[0;36m1\u001b[0m\u001b[0;34m)\u001b[0m\u001b[0;34m*\u001b[0m\u001b[0mbatch_size\u001b[0m\u001b[0;34m]\u001b[0m\u001b[0;34m\u001b[0m\u001b[0;34m\u001b[0m\u001b[0m\n\u001b[1;32m      7\u001b[0m         \u001b[0mi\u001b[0m \u001b[0;34m=\u001b[0m \u001b[0mi\u001b[0m\u001b[0;34m+\u001b[0m\u001b[0;36m1\u001b[0m\u001b[0;34m\u001b[0m\u001b[0;34m\u001b[0m\u001b[0m\n",
            "\u001b[0;31mNameError\u001b[0m: name 'train_images' is not defined"
          ]
        }
      ]
    },
    {
      "cell_type": "code",
      "metadata": {
        "id": "u2z9wdrGaWKi",
        "colab_type": "code",
        "colab": {}
      },
      "source": [
        ""
      ],
      "execution_count": 0,
      "outputs": []
    },
    {
      "cell_type": "code",
      "metadata": {
        "id": "FA0u4Jix9L4v",
        "colab_type": "code",
        "colab": {}
      },
      "source": [
        ""
      ],
      "execution_count": 0,
      "outputs": []
    },
    {
      "cell_type": "code",
      "metadata": {
        "id": "QZyXk75K9Zq2",
        "colab_type": "code",
        "colab": {}
      },
      "source": [
        ""
      ],
      "execution_count": 0,
      "outputs": []
    },
    {
      "cell_type": "code",
      "metadata": {
        "id": "HgHjSD049ZoK",
        "colab_type": "code",
        "colab": {}
      },
      "source": [
        "\"\"\"\n",
        "Student Network\n",
        "\"\"\"\n",
        "\n",
        "\n",
        "inputs_ = tf.placeholder(tf.float32, (None, 28, 28, 1), name='inputs')\n",
        "targets_ = tf.placeholder(tf.float32, (None, 28, 28, 1), name='targets')\n",
        "\n",
        "### Encoder\n",
        "conv1 = tf.layers.conv2d(inputs_, 16, (3,3),strides=2, padding='same', activation=tf.nn.relu)\n",
        "print(conv1.get_shape())\n",
        "# Now 14x14x16\n",
        "maxpool1 = tf.layers.max_pooling2d(conv1, (2,2), (2,2), padding='same')\n",
        "print(maxpool1.get_shape())\n",
        "# Now 7x7x16\n",
        "\n",
        "conv3 = tf.layers.conv2d(maxpool1, 8, (3,3), padding='same', activation=tf.nn.relu)\n",
        "print(conv3.get_shape())\n",
        "# Now 7x7x8\n",
        "encoded = tf.layers.max_pooling2d(conv3, (2,2), (2,2), padding='same')\n",
        "print(encoded.get_shape())\n",
        "# Now 4x4x8\n",
        "\n",
        "\n",
        "\n",
        "\n",
        "### Decoder\n",
        "upsample1 = tf.image.resize_nearest_neighbor(encoded, (7,7))\n",
        "# print(upsample1.get_shape())\n",
        "# Now 7x7x8\n",
        "conv4 = tf.layers.conv2d(upsample1, 16, (3,3), padding='same', activation=tf.nn.relu)\n",
        "print(conv4.get_shape())\n",
        "# Now 7x7x16\n",
        "upsample2 = tf.image.resize_nearest_neighbor(conv4, (14,14))\n",
        "# print(upsample2.get_shape())\n",
        "# Now 14x14x16\n",
        "conv5 = tf.layers.conv2d(upsample2, 16, (3,3), padding='same', activation=tf.nn.relu)\n",
        "print(conv5.get_shape())\n",
        "\n",
        "# Now 14x14x16\n",
        "upsample3 = tf.image.resize_nearest_neighbor(conv5, (28,28))\n",
        "# print(upsample3.get_shape())\n",
        "\n",
        "# # Now 28x28x16\n",
        "# conv6 = tf.layers.conv2d(upsample3, 1, (3,3), padding='same', activation=None)\n",
        "# print(conv6.get_shape())\n",
        "\n",
        "# Now 28x28x1\n",
        "\n",
        "logits = tf.layers.conv2d(upsample3, 1, (3,3), padding='same', activation=None)\n",
        "print(logits.get_shape())\n",
        "#Now 28x28x1\n",
        "\n",
        "# decoded = tf.nn.sigmoid(logits, name='decoded')\n",
        "\n",
        "#######\n",
        "def decoded_with_temp(T):\n",
        "  return tf.nn.sigmoid(logits/T , name='decoded_with_tem')\n",
        "######\n",
        "\n",
        "loss = tf.nn.sigmoid_cross_entropy_with_logits(labels=targets_, logits=logits)\n",
        "cost = tf.reduce_mean(loss)\n",
        "opt = tf.train.AdamOptimizer(0.001).minimize(cost"
      ],
      "execution_count": 0,
      "outputs": []
    }
  ]
}